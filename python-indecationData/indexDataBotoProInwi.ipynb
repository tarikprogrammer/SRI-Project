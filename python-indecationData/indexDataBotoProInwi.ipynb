{
 "cells": [
  {
   "cell_type": "code",
   "id": "initial_id",
   "metadata": {
    "collapsed": true,
    "ExecuteTime": {
     "end_time": "2024-12-03T20:14:46.657620Z",
     "start_time": "2024-12-03T20:14:46.653981Z"
    }
   },
   "source": [
    "from elasticsearch import Elasticsearch"
   ],
   "outputs": [],
   "execution_count": 120
  },
  {
   "cell_type": "code",
   "id": "c20236677ff6886e",
   "metadata": {
    "ExecuteTime": {
     "end_time": "2024-12-03T21:48:36.768957Z",
     "start_time": "2024-12-03T21:48:36.207603Z"
    }
   },
   "source": [
    "es = Elasticsearch(\n",
    "    \"https://localhost:9200\",\n",
    "    basic_auth=(\"elastic\", \"WD0BDPmVwPGZfJfAS6gJ\"),\n",
    "    verify_certs=False,\n",
    ")\n",
    "es.ping()"
   ],
   "outputs": [
    {
     "name": "stderr",
     "output_type": "stream",
     "text": [
      "/Users/tarik/Desktop/SRI-Project/python-indecationData/venv/lib/python3.13/site-packages/elasticsearch/_sync/client/__init__.py:402: SecurityWarning: Connecting to 'https://localhost:9200' using TLS with verify_certs=False is insecure\n",
      "  _transport = transport_class(\n"
     ]
    },
    {
     "data": {
      "text/plain": [
       "True"
      ]
     },
     "execution_count": 154,
     "metadata": {},
     "output_type": "execute_result"
    }
   ],
   "execution_count": 154
  },
  {
   "cell_type": "markdown",
   "id": "a856f8f95b60869c",
   "metadata": {},
   "source": [
    "## Préparation des données du botola Pro INWI du MAROC \n"
   ]
  },
  {
   "cell_type": "code",
   "id": "548f6121ff66babe",
   "metadata": {
    "ExecuteTime": {
     "end_time": "2024-12-03T20:14:51.663874Z",
     "start_time": "2024-12-03T20:14:51.654388Z"
    }
   },
   "source": [
    "import pandas as pd"
   ],
   "outputs": [],
   "execution_count": 122
  },
  {
   "cell_type": "code",
   "id": "e2db877301ce3f3e",
   "metadata": {
    "ExecuteTime": {
     "end_time": "2024-12-03T21:48:40.767172Z",
     "start_time": "2024-12-03T21:48:40.726293Z"
    }
   },
   "source": [
    "df = pd.read_csv(\"botola_pro_inwi_clubs.csv\")\n",
    "df.head()"
   ],
   "outputs": [
    {
     "data": {
      "text/plain": [
       "          Club Name        City  \\\n",
       "0  Wydad Casablanca  Casablanca   \n",
       "1   Raja Casablanca  Casablanca   \n",
       "2         FAR Rabat       Rabat   \n",
       "3   Hassania Agadir      Agadir   \n",
       "4        IRT Tanger      Tanger   \n",
       "\n",
       "                                             Stadium  \\\n",
       "0  Le stade du Wydad Casablanca est le Complexe S...   \n",
       "1  Le stade du Raja Casablanca est le Complexe Sp...   \n",
       "2  Le Stade Prince Moulay Abdellah de Rabat est l...   \n",
       "3  Le Stade d’Agadir, également connu sous le nom...   \n",
       "4  Le Stade Ibn Batouta de Tanger, souvent appelé...   \n",
       "\n",
       "                                        Founded Year  \\\n",
       "0  Le Wydad Athletic Club, fondé le 8 mai 1937, e...   \n",
       "1  Le Raja Club Athletic de Casablanca a été fond...   \n",
       "2  Le FUS Rabat (Fédération Union Sportive de Rab...   \n",
       "3  Le Hassania d’Agadir, l’un des clubs les plus ...   \n",
       "4  Le Stade Ibn Batouta de Tanger a été inauguré ...   \n",
       "\n",
       "                                          Titles Won  \\\n",
       "0  Le Wydad Athletic Club, plus connu sous le nom...   \n",
       "1  Le Raja Club Athletic de Casablanca, l’un des ...   \n",
       "2  Le FAR Rabat (Fusée de l’Armée Royale) est l’u...   \n",
       "3  Le Hassania d’Agadir a remporté plusieurs titr...   \n",
       "4  Le IRT Tanger (Ittihad Riadi de Tanger) a remp...   \n",
       "\n",
       "                                      Club President  \\\n",
       "0  Le Wydad Casablanca, sous la présidence de Aït...   \n",
       "1  Le président actuel du Raja Club Athletic de C...   \n",
       "2  Le président du FAR Rabat est Abdelmounaïm Bah...   \n",
       "3  Le président de Hassania Agadir est actuelleme...   \n",
       "4  Le président de l’Ittihad Riadi de Tanger (IRT...   \n",
       "\n",
       "                                               Coach  \\\n",
       "0  Le coach actuel du Wydad Casablanca est Adil R...   \n",
       "1  Le coach actuel du Raja Casablanca est Florent...   \n",
       "2  Le coach du FAR Rabat est actuellement Sofiane...   \n",
       "3  Le coach actuel de Hassania Agadir est Mustaph...   \n",
       "4  Le coach de l’Ittihad Riadi de Tanger (IRT) es...   \n",
       "\n",
       "                            Top Scorer (Last Season)  \\\n",
       "0  La saison dernière, le Wydad Casablanca a pu c...   \n",
       "1  Le meilleur buteur de l’histoire du Raja Casab...   \n",
       "2  Le meilleur buteur historique du FAR Rabat est...   \n",
       "3  Le meilleur buteur de Hassania Agadir est Moha...   \n",
       "4  Le meilleur buteur actuel de l’Ittihad Riadi d...   \n",
       "\n",
       "                                          Main Rival  \\\n",
       "0  Le principal rival du Wydad Casablanca est le ...   \n",
       "1  Le principal rival du Raja Casablanca est le W...   \n",
       "2  Le principal rival du FAR Rabat est le Raja Cl...   \n",
       "3  Le principal rival de Hassania Agadir est le R...   \n",
       "4  Le principal rival de l’Ittihad Riadi de Tange...   \n",
       "\n",
       "                                        Descriptions  \n",
       "0  Le Wydad Athletic Club, plus connu sous le nom...  \n",
       "1  Le Raja Club Athletic de Casablanca, communéme...  \n",
       "2  Le FAR Rabat (Fus de l’Armée Royale de Rabat) ...  \n",
       "3  Le Hassania d’Agadir, fondé en 1946, est un cl...  \n",
       "4  L’Ittihad Riadi de Tanger (IRT) est l’un des c...  "
      ],
      "text/html": [
       "<div>\n",
       "<style scoped>\n",
       "    .dataframe tbody tr th:only-of-type {\n",
       "        vertical-align: middle;\n",
       "    }\n",
       "\n",
       "    .dataframe tbody tr th {\n",
       "        vertical-align: top;\n",
       "    }\n",
       "\n",
       "    .dataframe thead th {\n",
       "        text-align: right;\n",
       "    }\n",
       "</style>\n",
       "<table border=\"1\" class=\"dataframe\">\n",
       "  <thead>\n",
       "    <tr style=\"text-align: right;\">\n",
       "      <th></th>\n",
       "      <th>Club Name</th>\n",
       "      <th>City</th>\n",
       "      <th>Stadium</th>\n",
       "      <th>Founded Year</th>\n",
       "      <th>Titles Won</th>\n",
       "      <th>Club President</th>\n",
       "      <th>Coach</th>\n",
       "      <th>Top Scorer (Last Season)</th>\n",
       "      <th>Main Rival</th>\n",
       "      <th>Descriptions</th>\n",
       "    </tr>\n",
       "  </thead>\n",
       "  <tbody>\n",
       "    <tr>\n",
       "      <th>0</th>\n",
       "      <td>Wydad Casablanca</td>\n",
       "      <td>Casablanca</td>\n",
       "      <td>Le stade du Wydad Casablanca est le Complexe S...</td>\n",
       "      <td>Le Wydad Athletic Club, fondé le 8 mai 1937, e...</td>\n",
       "      <td>Le Wydad Athletic Club, plus connu sous le nom...</td>\n",
       "      <td>Le Wydad Casablanca, sous la présidence de Aït...</td>\n",
       "      <td>Le coach actuel du Wydad Casablanca est Adil R...</td>\n",
       "      <td>La saison dernière, le Wydad Casablanca a pu c...</td>\n",
       "      <td>Le principal rival du Wydad Casablanca est le ...</td>\n",
       "      <td>Le Wydad Athletic Club, plus connu sous le nom...</td>\n",
       "    </tr>\n",
       "    <tr>\n",
       "      <th>1</th>\n",
       "      <td>Raja Casablanca</td>\n",
       "      <td>Casablanca</td>\n",
       "      <td>Le stade du Raja Casablanca est le Complexe Sp...</td>\n",
       "      <td>Le Raja Club Athletic de Casablanca a été fond...</td>\n",
       "      <td>Le Raja Club Athletic de Casablanca, l’un des ...</td>\n",
       "      <td>Le président actuel du Raja Club Athletic de C...</td>\n",
       "      <td>Le coach actuel du Raja Casablanca est Florent...</td>\n",
       "      <td>Le meilleur buteur de l’histoire du Raja Casab...</td>\n",
       "      <td>Le principal rival du Raja Casablanca est le W...</td>\n",
       "      <td>Le Raja Club Athletic de Casablanca, communéme...</td>\n",
       "    </tr>\n",
       "    <tr>\n",
       "      <th>2</th>\n",
       "      <td>FAR Rabat</td>\n",
       "      <td>Rabat</td>\n",
       "      <td>Le Stade Prince Moulay Abdellah de Rabat est l...</td>\n",
       "      <td>Le FUS Rabat (Fédération Union Sportive de Rab...</td>\n",
       "      <td>Le FAR Rabat (Fusée de l’Armée Royale) est l’u...</td>\n",
       "      <td>Le président du FAR Rabat est Abdelmounaïm Bah...</td>\n",
       "      <td>Le coach du FAR Rabat est actuellement Sofiane...</td>\n",
       "      <td>Le meilleur buteur historique du FAR Rabat est...</td>\n",
       "      <td>Le principal rival du FAR Rabat est le Raja Cl...</td>\n",
       "      <td>Le FAR Rabat (Fus de l’Armée Royale de Rabat) ...</td>\n",
       "    </tr>\n",
       "    <tr>\n",
       "      <th>3</th>\n",
       "      <td>Hassania Agadir</td>\n",
       "      <td>Agadir</td>\n",
       "      <td>Le Stade d’Agadir, également connu sous le nom...</td>\n",
       "      <td>Le Hassania d’Agadir, l’un des clubs les plus ...</td>\n",
       "      <td>Le Hassania d’Agadir a remporté plusieurs titr...</td>\n",
       "      <td>Le président de Hassania Agadir est actuelleme...</td>\n",
       "      <td>Le coach actuel de Hassania Agadir est Mustaph...</td>\n",
       "      <td>Le meilleur buteur de Hassania Agadir est Moha...</td>\n",
       "      <td>Le principal rival de Hassania Agadir est le R...</td>\n",
       "      <td>Le Hassania d’Agadir, fondé en 1946, est un cl...</td>\n",
       "    </tr>\n",
       "    <tr>\n",
       "      <th>4</th>\n",
       "      <td>IRT Tanger</td>\n",
       "      <td>Tanger</td>\n",
       "      <td>Le Stade Ibn Batouta de Tanger, souvent appelé...</td>\n",
       "      <td>Le Stade Ibn Batouta de Tanger a été inauguré ...</td>\n",
       "      <td>Le IRT Tanger (Ittihad Riadi de Tanger) a remp...</td>\n",
       "      <td>Le président de l’Ittihad Riadi de Tanger (IRT...</td>\n",
       "      <td>Le coach de l’Ittihad Riadi de Tanger (IRT) es...</td>\n",
       "      <td>Le meilleur buteur actuel de l’Ittihad Riadi d...</td>\n",
       "      <td>Le principal rival de l’Ittihad Riadi de Tange...</td>\n",
       "      <td>L’Ittihad Riadi de Tanger (IRT) est l’un des c...</td>\n",
       "    </tr>\n",
       "  </tbody>\n",
       "</table>\n",
       "</div>"
      ]
     },
     "execution_count": 155,
     "metadata": {},
     "output_type": "execute_result"
    }
   ],
   "execution_count": 155
  },
  {
   "cell_type": "code",
   "id": "1c5e059f7046817b",
   "metadata": {
    "ExecuteTime": {
     "end_time": "2024-12-03T21:48:43.000908Z",
     "start_time": "2024-12-03T21:48:42.968010Z"
    }
   },
   "source": [
    "df.isna().value_counts()"
   ],
   "outputs": [
    {
     "data": {
      "text/plain": [
       "Club Name  City   Stadium  Founded Year  Titles Won  Club President  Coach  Top Scorer (Last Season)  Main Rival  Descriptions\n",
       "False      False  False    False         False       False           False  False                     False       False           9\n",
       "Name: count, dtype: int64"
      ]
     },
     "execution_count": 156,
     "metadata": {},
     "output_type": "execute_result"
    }
   ],
   "execution_count": 156
  },
  {
   "cell_type": "code",
   "id": "d049983cc9c79b47",
   "metadata": {
    "ExecuteTime": {
     "end_time": "2024-12-03T21:48:45.664373Z",
     "start_time": "2024-12-03T21:48:45.645090Z"
    }
   },
   "source": [
    "df.fillna(\"None\", inplace=True)"
   ],
   "outputs": [],
   "execution_count": 157
  },
  {
   "cell_type": "markdown",
   "id": "6798a13eea667108",
   "metadata": {},
   "source": [
    "## Convertir chaque field à un vecteur en utilisant le model SBERT \n"
   ]
  },
  {
   "cell_type": "code",
   "id": "66f0b8b602f687c2",
   "metadata": {
    "ExecuteTime": {
     "end_time": "2024-12-03T21:48:54.118117Z",
     "start_time": "2024-12-03T21:48:47.332559Z"
    }
   },
   "source": [
    "from sentence_transformers import SentenceTransformer\n",
    "model = SentenceTransformer('all-mpnet-base-v2')"
   ],
   "outputs": [],
   "execution_count": 158
  },
  {
   "metadata": {
    "ExecuteTime": {
     "end_time": "2024-12-03T21:48:59.088339Z",
     "start_time": "2024-12-03T21:48:57.421345Z"
    }
   },
   "cell_type": "code",
   "source": "df[\"DescriptionVector\"] = df[\"Descriptions\"].apply(lambda x: model.encode(x))",
   "id": "2e7e5c8b23a968d6",
   "outputs": [],
   "execution_count": 159
  },
  {
   "metadata": {
    "ExecuteTime": {
     "end_time": "2024-12-03T21:49:01.681662Z",
     "start_time": "2024-12-03T21:49:01.666208Z"
    }
   },
   "cell_type": "code",
   "source": "df.head()",
   "id": "54587c0e731f9d78",
   "outputs": [
    {
     "data": {
      "text/plain": [
       "          Club Name        City  \\\n",
       "0  Wydad Casablanca  Casablanca   \n",
       "1   Raja Casablanca  Casablanca   \n",
       "2         FAR Rabat       Rabat   \n",
       "3   Hassania Agadir      Agadir   \n",
       "4        IRT Tanger      Tanger   \n",
       "\n",
       "                                             Stadium  \\\n",
       "0  Le stade du Wydad Casablanca est le Complexe S...   \n",
       "1  Le stade du Raja Casablanca est le Complexe Sp...   \n",
       "2  Le Stade Prince Moulay Abdellah de Rabat est l...   \n",
       "3  Le Stade d’Agadir, également connu sous le nom...   \n",
       "4  Le Stade Ibn Batouta de Tanger, souvent appelé...   \n",
       "\n",
       "                                        Founded Year  \\\n",
       "0  Le Wydad Athletic Club, fondé le 8 mai 1937, e...   \n",
       "1  Le Raja Club Athletic de Casablanca a été fond...   \n",
       "2  Le FUS Rabat (Fédération Union Sportive de Rab...   \n",
       "3  Le Hassania d’Agadir, l’un des clubs les plus ...   \n",
       "4  Le Stade Ibn Batouta de Tanger a été inauguré ...   \n",
       "\n",
       "                                          Titles Won  \\\n",
       "0  Le Wydad Athletic Club, plus connu sous le nom...   \n",
       "1  Le Raja Club Athletic de Casablanca, l’un des ...   \n",
       "2  Le FAR Rabat (Fusée de l’Armée Royale) est l’u...   \n",
       "3  Le Hassania d’Agadir a remporté plusieurs titr...   \n",
       "4  Le IRT Tanger (Ittihad Riadi de Tanger) a remp...   \n",
       "\n",
       "                                      Club President  \\\n",
       "0  Le Wydad Casablanca, sous la présidence de Aït...   \n",
       "1  Le président actuel du Raja Club Athletic de C...   \n",
       "2  Le président du FAR Rabat est Abdelmounaïm Bah...   \n",
       "3  Le président de Hassania Agadir est actuelleme...   \n",
       "4  Le président de l’Ittihad Riadi de Tanger (IRT...   \n",
       "\n",
       "                                               Coach  \\\n",
       "0  Le coach actuel du Wydad Casablanca est Adil R...   \n",
       "1  Le coach actuel du Raja Casablanca est Florent...   \n",
       "2  Le coach du FAR Rabat est actuellement Sofiane...   \n",
       "3  Le coach actuel de Hassania Agadir est Mustaph...   \n",
       "4  Le coach de l’Ittihad Riadi de Tanger (IRT) es...   \n",
       "\n",
       "                            Top Scorer (Last Season)  \\\n",
       "0  La saison dernière, le Wydad Casablanca a pu c...   \n",
       "1  Le meilleur buteur de l’histoire du Raja Casab...   \n",
       "2  Le meilleur buteur historique du FAR Rabat est...   \n",
       "3  Le meilleur buteur de Hassania Agadir est Moha...   \n",
       "4  Le meilleur buteur actuel de l’Ittihad Riadi d...   \n",
       "\n",
       "                                          Main Rival  \\\n",
       "0  Le principal rival du Wydad Casablanca est le ...   \n",
       "1  Le principal rival du Raja Casablanca est le W...   \n",
       "2  Le principal rival du FAR Rabat est le Raja Cl...   \n",
       "3  Le principal rival de Hassania Agadir est le R...   \n",
       "4  Le principal rival de l’Ittihad Riadi de Tange...   \n",
       "\n",
       "                                        Descriptions  \\\n",
       "0  Le Wydad Athletic Club, plus connu sous le nom...   \n",
       "1  Le Raja Club Athletic de Casablanca, communéme...   \n",
       "2  Le FAR Rabat (Fus de l’Armée Royale de Rabat) ...   \n",
       "3  Le Hassania d’Agadir, fondé en 1946, est un cl...   \n",
       "4  L’Ittihad Riadi de Tanger (IRT) est l’un des c...   \n",
       "\n",
       "                                   DescriptionVector  \n",
       "0  [0.026392147, 0.0049450975, 0.028364608, 0.013...  \n",
       "1  [0.026804522, 0.0055080373, 0.009453392, -0.00...  \n",
       "2  [0.011538492, -0.042291034, 0.015724463, 0.013...  \n",
       "3  [0.006072375, 0.034710392, -0.0034905192, 0.01...  \n",
       "4  [-0.02108183, -0.066223435, -0.00031380172, 0....  "
      ],
      "text/html": [
       "<div>\n",
       "<style scoped>\n",
       "    .dataframe tbody tr th:only-of-type {\n",
       "        vertical-align: middle;\n",
       "    }\n",
       "\n",
       "    .dataframe tbody tr th {\n",
       "        vertical-align: top;\n",
       "    }\n",
       "\n",
       "    .dataframe thead th {\n",
       "        text-align: right;\n",
       "    }\n",
       "</style>\n",
       "<table border=\"1\" class=\"dataframe\">\n",
       "  <thead>\n",
       "    <tr style=\"text-align: right;\">\n",
       "      <th></th>\n",
       "      <th>Club Name</th>\n",
       "      <th>City</th>\n",
       "      <th>Stadium</th>\n",
       "      <th>Founded Year</th>\n",
       "      <th>Titles Won</th>\n",
       "      <th>Club President</th>\n",
       "      <th>Coach</th>\n",
       "      <th>Top Scorer (Last Season)</th>\n",
       "      <th>Main Rival</th>\n",
       "      <th>Descriptions</th>\n",
       "      <th>DescriptionVector</th>\n",
       "    </tr>\n",
       "  </thead>\n",
       "  <tbody>\n",
       "    <tr>\n",
       "      <th>0</th>\n",
       "      <td>Wydad Casablanca</td>\n",
       "      <td>Casablanca</td>\n",
       "      <td>Le stade du Wydad Casablanca est le Complexe S...</td>\n",
       "      <td>Le Wydad Athletic Club, fondé le 8 mai 1937, e...</td>\n",
       "      <td>Le Wydad Athletic Club, plus connu sous le nom...</td>\n",
       "      <td>Le Wydad Casablanca, sous la présidence de Aït...</td>\n",
       "      <td>Le coach actuel du Wydad Casablanca est Adil R...</td>\n",
       "      <td>La saison dernière, le Wydad Casablanca a pu c...</td>\n",
       "      <td>Le principal rival du Wydad Casablanca est le ...</td>\n",
       "      <td>Le Wydad Athletic Club, plus connu sous le nom...</td>\n",
       "      <td>[0.026392147, 0.0049450975, 0.028364608, 0.013...</td>\n",
       "    </tr>\n",
       "    <tr>\n",
       "      <th>1</th>\n",
       "      <td>Raja Casablanca</td>\n",
       "      <td>Casablanca</td>\n",
       "      <td>Le stade du Raja Casablanca est le Complexe Sp...</td>\n",
       "      <td>Le Raja Club Athletic de Casablanca a été fond...</td>\n",
       "      <td>Le Raja Club Athletic de Casablanca, l’un des ...</td>\n",
       "      <td>Le président actuel du Raja Club Athletic de C...</td>\n",
       "      <td>Le coach actuel du Raja Casablanca est Florent...</td>\n",
       "      <td>Le meilleur buteur de l’histoire du Raja Casab...</td>\n",
       "      <td>Le principal rival du Raja Casablanca est le W...</td>\n",
       "      <td>Le Raja Club Athletic de Casablanca, communéme...</td>\n",
       "      <td>[0.026804522, 0.0055080373, 0.009453392, -0.00...</td>\n",
       "    </tr>\n",
       "    <tr>\n",
       "      <th>2</th>\n",
       "      <td>FAR Rabat</td>\n",
       "      <td>Rabat</td>\n",
       "      <td>Le Stade Prince Moulay Abdellah de Rabat est l...</td>\n",
       "      <td>Le FUS Rabat (Fédération Union Sportive de Rab...</td>\n",
       "      <td>Le FAR Rabat (Fusée de l’Armée Royale) est l’u...</td>\n",
       "      <td>Le président du FAR Rabat est Abdelmounaïm Bah...</td>\n",
       "      <td>Le coach du FAR Rabat est actuellement Sofiane...</td>\n",
       "      <td>Le meilleur buteur historique du FAR Rabat est...</td>\n",
       "      <td>Le principal rival du FAR Rabat est le Raja Cl...</td>\n",
       "      <td>Le FAR Rabat (Fus de l’Armée Royale de Rabat) ...</td>\n",
       "      <td>[0.011538492, -0.042291034, 0.015724463, 0.013...</td>\n",
       "    </tr>\n",
       "    <tr>\n",
       "      <th>3</th>\n",
       "      <td>Hassania Agadir</td>\n",
       "      <td>Agadir</td>\n",
       "      <td>Le Stade d’Agadir, également connu sous le nom...</td>\n",
       "      <td>Le Hassania d’Agadir, l’un des clubs les plus ...</td>\n",
       "      <td>Le Hassania d’Agadir a remporté plusieurs titr...</td>\n",
       "      <td>Le président de Hassania Agadir est actuelleme...</td>\n",
       "      <td>Le coach actuel de Hassania Agadir est Mustaph...</td>\n",
       "      <td>Le meilleur buteur de Hassania Agadir est Moha...</td>\n",
       "      <td>Le principal rival de Hassania Agadir est le R...</td>\n",
       "      <td>Le Hassania d’Agadir, fondé en 1946, est un cl...</td>\n",
       "      <td>[0.006072375, 0.034710392, -0.0034905192, 0.01...</td>\n",
       "    </tr>\n",
       "    <tr>\n",
       "      <th>4</th>\n",
       "      <td>IRT Tanger</td>\n",
       "      <td>Tanger</td>\n",
       "      <td>Le Stade Ibn Batouta de Tanger, souvent appelé...</td>\n",
       "      <td>Le Stade Ibn Batouta de Tanger a été inauguré ...</td>\n",
       "      <td>Le IRT Tanger (Ittihad Riadi de Tanger) a remp...</td>\n",
       "      <td>Le président de l’Ittihad Riadi de Tanger (IRT...</td>\n",
       "      <td>Le coach de l’Ittihad Riadi de Tanger (IRT) es...</td>\n",
       "      <td>Le meilleur buteur actuel de l’Ittihad Riadi d...</td>\n",
       "      <td>Le principal rival de l’Ittihad Riadi de Tange...</td>\n",
       "      <td>L’Ittihad Riadi de Tanger (IRT) est l’un des c...</td>\n",
       "      <td>[-0.02108183, -0.066223435, -0.00031380172, 0....</td>\n",
       "    </tr>\n",
       "  </tbody>\n",
       "</table>\n",
       "</div>"
      ]
     },
     "execution_count": 160,
     "metadata": {},
     "output_type": "execute_result"
    }
   ],
   "execution_count": 160
  },
  {
   "metadata": {
    "ExecuteTime": {
     "end_time": "2024-12-03T21:49:04.195797Z",
     "start_time": "2024-12-03T21:49:04.157341Z"
    }
   },
   "cell_type": "code",
   "source": "es.ping()",
   "id": "f313a55b0457243a",
   "outputs": [
    {
     "data": {
      "text/plain": [
       "True"
      ]
     },
     "execution_count": 161,
     "metadata": {},
     "output_type": "execute_result"
    }
   ],
   "execution_count": 161
  },
  {
   "metadata": {},
   "cell_type": "markdown",
   "source": "## Create new index in ElasticSearch!\n",
   "id": "b3448a5eea61d9f1"
  },
  {
   "metadata": {
    "ExecuteTime": {
     "end_time": "2024-12-03T21:49:12.105934Z",
     "start_time": "2024-12-03T21:49:11.811004Z"
    }
   },
   "cell_type": "code",
   "source": [
    "from indexMapping import indexMapping\n",
    "\n",
    "es.indices.create(index=\"botola\", mappings=indexMapping)"
   ],
   "id": "34ec7635edc7446b",
   "outputs": [
    {
     "data": {
      "text/plain": [
       "ObjectApiResponse({'acknowledged': True, 'shards_acknowledged': True, 'index': 'botola'})"
      ]
     },
     "execution_count": 163,
     "metadata": {},
     "output_type": "execute_result"
    }
   ],
   "execution_count": 163
  },
  {
   "metadata": {},
   "cell_type": "markdown",
   "source": "",
   "id": "a7ecf3f777d4820e"
  },
  {
   "metadata": {},
   "cell_type": "markdown",
   "source": "## Pour ingérer des données dans un index Elasticsearch\n",
   "id": "5c8849c30522f5dc"
  },
  {
   "metadata": {},
   "cell_type": "markdown",
   "source": "",
   "id": "6377ee5f3db31325"
  },
  {
   "metadata": {
    "ExecuteTime": {
     "end_time": "2024-12-03T21:49:16.169566Z",
     "start_time": "2024-12-03T21:49:16.163958Z"
    }
   },
   "cell_type": "code",
   "source": "record_list = df.to_dict(\"records\")",
   "id": "68caef8264f4af21",
   "outputs": [],
   "execution_count": 165
  },
  {
   "metadata": {
    "ExecuteTime": {
     "end_time": "2024-12-03T21:51:36.556365Z",
     "start_time": "2024-12-03T21:51:36.076233Z"
    }
   },
   "cell_type": "code",
   "source": [
    "for record in record_list:\n",
    "    try:\n",
    "        es.index(index=\"botola\", document=record)\n",
    "    except Exception as e:\n",
    "        print(e)"
   ],
   "id": "87db5814b4263fae",
   "outputs": [],
   "execution_count": 171
  },
  {
   "metadata": {
    "ExecuteTime": {
     "end_time": "2024-12-03T21:51:38.399520Z",
     "start_time": "2024-12-03T21:51:38.261035Z"
    }
   },
   "cell_type": "code",
   "source": "es.count(index=\"botola\")",
   "id": "6778b855bfe54569",
   "outputs": [
    {
     "data": {
      "text/plain": [
       "ObjectApiResponse({'count': 18, '_shards': {'total': 1, 'successful': 1, 'skipped': 0, 'failed': 0}})"
      ]
     },
     "execution_count": 172,
     "metadata": {},
     "output_type": "execute_result"
    }
   ],
   "execution_count": 172
  },
  {
   "metadata": {
    "ExecuteTime": {
     "end_time": "2024-12-03T22:10:18.363327Z",
     "start_time": "2024-12-03T22:10:16.716089Z"
    }
   },
   "cell_type": "code",
   "source": [
    "input_keyword = \"titres de wydad de casablanca\"\n",
    "vector_of_input_keyword = model.encode(input_keyword)\n",
    "\n",
    "query = {\n",
    "    \"field\": \"DescriptionVector\",  # Nom du champ contenant les vecteurs\n",
    "    \"query_vector\": vector_of_input_keyword,  # Vecteur généré par votre modèle\n",
    "    \"k\": 2,  # Nombre de résultats proches que vous souhaitez\n",
    "    \"num_candidates\": 500  # Nombre maximal de candidats à examiner\n",
    "}\n",
    "\n",
    "res = es.knn_search(\n",
    "    index=\"botola\",\n",
    "    knn=query,\n",
    "    _source=[\"City\", \"Descriptions\", \"Club Name\", \"Stadium\", \"Founded Year\"]  # Attention à \"_source\"\n",
    ")\n",
    "\n",
    "# Afficher les résultats\n",
    "res[\"hits\"][\"hits\"]"
   ],
   "id": "c775641678cd11e",
   "outputs": [
    {
     "name": "stderr",
     "output_type": "stream",
     "text": [
      "/var/folders/pl/v43d5c6j1ys41r8g5j39rt380000gn/T/ipykernel_6284/1003589375.py:11: GeneralAvailabilityWarning: This API is in technical preview and may be changed or removed in a future release. Elastic will work to fix any issues, but features in technical preview are not subject to the support SLA of official GA features.\n",
      "  res = es.knn_search(\n",
      "/var/folders/pl/v43d5c6j1ys41r8g5j39rt380000gn/T/ipykernel_6284/1003589375.py:11: ElasticsearchWarning: The kNN search API has been replaced by the `knn` option in the search API.\n",
      "  res = es.knn_search(\n"
     ]
    },
    {
     "data": {
      "text/plain": [
       "[{'_index': 'botola',\n",
       "  '_id': 'Wydad Casablanca',\n",
       "  '_score': 0.6332728,\n",
       "  '_ignored': ['Stadium.keyword',\n",
       "   'Titles Won.keyword',\n",
       "   'Founded Year.keyword',\n",
       "   'Club President.keyword',\n",
       "   'Top Scorer (Last Season).keyword',\n",
       "   'Coach.keyword',\n",
       "   'Main Rival.keyword'],\n",
       "  '_source': {'Club Name': 'Wydad Casablanca',\n",
       "   'City': 'Casablanca',\n",
       "   'Stadium': 'Le stade du Wydad Casablanca est le Complexe Sportif Mohammed V, situé à Casablanca. Ce stade emblématique est l’un des plus grands et des plus célèbres du Maroc. Il est le lieu de prédilection pour les matchs à domicile du Wydad et est également utilisé pour d’autres événements sportifs majeurs, notamment des matchs internationaux et des compétitions nationales. Le Complexe Mohammed V est reconnu pour son ambiance électrique, avec des supporters passionnés qui remplissent souvent les gradins pour soutenir leur équipe.',\n",
       "   'Founded Year': 'Le Wydad Athletic Club, fondé le 8 mai 1937, est l’un des clubs les plus prestigieux et historiques du football marocain et africain. Basé à Casablanca, le Wydad a une riche tradition et une passion profonde qui lient ses supporters, surnommés les “Casawi”. Le club a remporté de nombreux titres nationaux et internationaux, notamment la Botola Pro, la Ligue des champions de la CAF et la Coupe du Trône. Grâce à son jeu spectaculaire et à son esprit combatif, le Wydad est reconnu pour sa capacité à rivaliser au plus haut niveau du football continental. Son stade, le Complexe Mohammed V, est un lieu mythique, témoin de nombreuses victoires et de moments mémorables. Le Wydad a su marquer l’histoire du football avec ses performances exceptionnelles, consolidant ainsi son statut de géant du sport au Maroc et en Afrique.',\n",
       "   'Descriptions': 'Le Wydad Athletic Club, plus connu sous le nom de Wydad Casablanca ou simplement WAC, est un club de football emblématique basé dans la ville de Casablanca, au Maroc. Fondé en 1937, le Wydad est l’un des clubs les plus titrés et les plus respectés du pays et du continent africain. Le club évolue principalement au Stade Mohammed V, situé au cœur de Casablanca, une ville dynamique et considérée comme la capitale économique du Maroc. Le Wydad est reconnu pour sa riche histoire, son palmarès impressionnant, et son immense base de supporters passionnés, connus sous le nom de “Wydadis”. Avec de nombreuses distinctions nationales et internationales, le club incarne l’excellence sportive et culturelle de Casablanca'}},\n",
       " {'_index': 'botola',\n",
       "  '_id': 'd-KBjpMB6Al9AiOL374o',\n",
       "  '_score': 0.6332728,\n",
       "  '_ignored': ['Stadium.keyword',\n",
       "   'Titles Won.keyword',\n",
       "   'Founded Year.keyword',\n",
       "   'Club President.keyword',\n",
       "   'Top Scorer (Last Season).keyword',\n",
       "   'Coach.keyword',\n",
       "   'Main Rival.keyword'],\n",
       "  '_source': {'Club Name': 'Wydad Casablanca',\n",
       "   'City': 'Casablanca',\n",
       "   'Stadium': 'Le stade du Wydad Casablanca est le Complexe Sportif Mohammed V, situé à Casablanca. Ce stade emblématique est l’un des plus grands et des plus célèbres du Maroc. Il est le lieu de prédilection pour les matchs à domicile du Wydad et est également utilisé pour d’autres événements sportifs majeurs, notamment des matchs internationaux et des compétitions nationales. Le Complexe Mohammed V est reconnu pour son ambiance électrique, avec des supporters passionnés qui remplissent souvent les gradins pour soutenir leur équipe.',\n",
       "   'Founded Year': 'Le Wydad Athletic Club, fondé le 8 mai 1937, est l’un des clubs les plus prestigieux et historiques du football marocain et africain. Basé à Casablanca, le Wydad a une riche tradition et une passion profonde qui lient ses supporters, surnommés les “Casawi”. Le club a remporté de nombreux titres nationaux et internationaux, notamment la Botola Pro, la Ligue des champions de la CAF et la Coupe du Trône. Grâce à son jeu spectaculaire et à son esprit combatif, le Wydad est reconnu pour sa capacité à rivaliser au plus haut niveau du football continental. Son stade, le Complexe Mohammed V, est un lieu mythique, témoin de nombreuses victoires et de moments mémorables. Le Wydad a su marquer l’histoire du football avec ses performances exceptionnelles, consolidant ainsi son statut de géant du sport au Maroc et en Afrique.',\n",
       "   'Descriptions': 'Le Wydad Athletic Club, plus connu sous le nom de Wydad Casablanca ou simplement WAC, est un club de football emblématique basé dans la ville de Casablanca, au Maroc. Fondé en 1937, le Wydad est l’un des clubs les plus titrés et les plus respectés du pays et du continent africain. Le club évolue principalement au Stade Mohammed V, situé au cœur de Casablanca, une ville dynamique et considérée comme la capitale économique du Maroc. Le Wydad est reconnu pour sa riche histoire, son palmarès impressionnant, et son immense base de supporters passionnés, connus sous le nom de “Wydadis”. Avec de nombreuses distinctions nationales et internationales, le club incarne l’excellence sportive et culturelle de Casablanca'}}]"
      ]
     },
     "execution_count": 184,
     "metadata": {},
     "output_type": "execute_result"
    }
   ],
   "execution_count": 184
  }
 ],
 "metadata": {
  "kernelspec": {
   "display_name": "Python 3",
   "language": "python",
   "name": "python3"
  },
  "language_info": {
   "codemirror_mode": {
    "name": "ipython",
    "version": 2
   },
   "file_extension": ".py",
   "mimetype": "text/x-python",
   "name": "python",
   "nbconvert_exporter": "python",
   "pygments_lexer": "ipython2",
   "version": "3.13.0"
  }
 },
 "nbformat": 4,
 "nbformat_minor": 5
}
