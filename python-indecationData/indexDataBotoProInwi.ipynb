{
 "cells": [
  {
   "cell_type": "code",
   "id": "initial_id",
   "metadata": {
    "collapsed": true,
    "ExecuteTime": {
     "end_time": "2024-12-12T22:32:21.055208Z",
     "start_time": "2024-12-12T22:32:21.053331Z"
    }
   },
   "source": "from elasticsearch import Elasticsearch\n",
   "outputs": [],
   "execution_count": 4
  },
  {
   "cell_type": "code",
   "id": "c20236677ff6886e",
   "metadata": {
    "ExecuteTime": {
     "end_time": "2024-12-12T22:40:29.890025Z",
     "start_time": "2024-12-12T22:40:29.616819Z"
    }
   },
   "source": [
    "es = Elasticsearch(\n",
    "    \"https://localhost:9200\",\n",
    "    basic_auth=(\"elastic\", \"-xfouEshAQuhtQdoUS=Z\"),\n",
    "    verify_certs=False,\n",
    "    timeout=30,  \n",
    "   \n",
    "\n",
    "\n",
    ")\n",
    "es.ping()"
   ],
   "outputs": [
    {
     "name": "stderr",
     "output_type": "stream",
     "text": [
      "/var/folders/pl/v43d5c6j1ys41r8g5j39rt380000gn/T/ipykernel_17583/1602683618.py:1: DeprecationWarning: The 'timeout' parameter is deprecated in favor of 'request_timeout'\n",
      "  es = Elasticsearch(\n",
      "/Users/tarik/Desktop/SRI-Project/python-indecationData/venv/lib/python3.13/site-packages/elasticsearch/_sync/client/__init__.py:402: SecurityWarning: Connecting to 'https://localhost:9200' using TLS with verify_certs=False is insecure\n",
      "  _transport = transport_class(\n",
      "/Users/tarik/Desktop/SRI-Project/python-indecationData/venv/lib/python3.13/site-packages/urllib3/connectionpool.py:1099: InsecureRequestWarning: Unverified HTTPS request is being made to host 'localhost'. Adding certificate verification is strongly advised. See: https://urllib3.readthedocs.io/en/latest/advanced-usage.html#tls-warnings\n",
      "  warnings.warn(\n"
     ]
    },
    {
     "data": {
      "text/plain": [
       "True"
      ]
     },
     "execution_count": 22,
     "metadata": {},
     "output_type": "execute_result"
    }
   ],
   "execution_count": 22
  },
  {
   "cell_type": "markdown",
   "id": "a856f8f95b60869c",
   "metadata": {},
   "source": [
    "## Préparation des données du botola Pro INWI du MAROC \n"
   ]
  },
  {
   "cell_type": "code",
   "id": "548f6121ff66babe",
   "metadata": {
    "ExecuteTime": {
     "end_time": "2024-12-12T22:40:32.137625Z",
     "start_time": "2024-12-12T22:40:32.130885Z"
    }
   },
   "source": [
    "import pandas as pd"
   ],
   "outputs": [],
   "execution_count": 23
  },
  {
   "cell_type": "code",
   "id": "e2db877301ce3f3e",
   "metadata": {
    "ExecuteTime": {
     "end_time": "2024-12-12T22:40:34.267967Z",
     "start_time": "2024-12-12T22:40:34.174267Z"
    }
   },
   "source": [
    "df = pd.read_csv(\"data_botola_inwi.csv\", sep=';')\n",
    "df.head()"
   ],
   "outputs": [
    {
     "data": {
      "text/plain": [
       "       Nom de club       Ville  \\\n",
       "0            Wydad  Casablanca   \n",
       "1  Raja Casablanca  Casablanca   \n",
       "2              FAR       Rabat   \n",
       "3  Hassania Agadir      Agadir   \n",
       "4       IRT Tanger      Tanger   \n",
       "\n",
       "                                             Terrain  \\\n",
       "0  Le stade du Wydad Casablanca est le Complexe S...   \n",
       "1  Le stade du Raja Casablanca est le Complexe Sp...   \n",
       "2  Le Stade Prince Moulay Abdellah de Rabat est l...   \n",
       "3  Le Stade d’Agadir, également connu sous le nom...   \n",
       "4  Le Stade Ibn Batouta de Tanger, souvent appelé...   \n",
       "\n",
       "                                    Date de creation  \\\n",
       "0  Le Wydad Athletic Club, fondé le 8 mai 1937, e...   \n",
       "1  Le Raja Club Athletic de Casablanca a été fond...   \n",
       "2  Le FUS Rabat (Fédération Union Sportive de Rab...   \n",
       "3  Le Hassania d’Agadir, l’un des clubs les plus ...   \n",
       "4  Le Stade Ibn Batouta de Tanger a été inauguré ...   \n",
       "\n",
       "                                       Titres gagnés  \\\n",
       "0  Le Wydad Athletic Club, plus connu sous le nom...   \n",
       "1  Le Raja Club Athletic de Casablanca, l’un des ...   \n",
       "2  Le FAR Rabat (Fusée de l’Armée Royale) est l’u...   \n",
       "3  Le Hassania d’Agadir a remporté plusieurs titr...   \n",
       "4  Le IRT Tanger (Ittihad Riadi de Tanger) a remp...   \n",
       "\n",
       "                                           President  \\\n",
       "0  Le Wydad Casablanca, sous la présidence de Aït...   \n",
       "1  Le président actuel du Raja Club Athletic de C...   \n",
       "2  Le président du FAR Rabat est Abdelmounaïm Bah...   \n",
       "3  Le président de Hassania Agadir est actuelleme...   \n",
       "4  Le président de l’Ittihad Riadi de Tanger (IRT...   \n",
       "\n",
       "                                          entraineur  \\\n",
       "0  Le coach actuel du Wydad Casablanca est Adil R...   \n",
       "1  Le coach actuel du Raja Casablanca est Florent...   \n",
       "2  Le coach du FAR Rabat est actuellement Sofiane...   \n",
       "3  Le coach actuel de Hassania Agadir est Mustaph...   \n",
       "4  Le coach de l’Ittihad Riadi de Tanger (IRT) es...   \n",
       "\n",
       "                                             Butteur  \\\n",
       "0  La saison dernière, le Wydad Casablanca a pu c...   \n",
       "1  Le meilleur buteur de l’histoire du Raja Casab...   \n",
       "2  Le meilleur buteur historique du FAR Rabat est...   \n",
       "3  Le meilleur buteur de Hassania Agadir est Moha...   \n",
       "4  Le meilleur buteur actuel de l’Ittihad Riadi d...   \n",
       "\n",
       "                                              Ennemi  \\\n",
       "0  Le principal rival du Wydad Casablanca est le ...   \n",
       "1  Le principal rival du Raja Casablanca est le W...   \n",
       "2  Le principal rival du FAR Rabat est le Raja Cl...   \n",
       "3  Le principal rival de Hassania Agadir est le R...   \n",
       "4  Le principal rival de l’Ittihad Riadi de Tange...   \n",
       "\n",
       "                                         Description  \n",
       "0  Le Wydad Athletic Club, plus connu sous le nom...  \n",
       "1  Le Raja Club Athletic de Casablanca, communéme...  \n",
       "2  Le FAR Rabat (Fus de l’Armée Royale de Rabat) ...  \n",
       "3  Le Hassania d’Agadir, fondé en 1946, est un cl...  \n",
       "4  L’Ittihad Riadi de Tanger (IRT) est l’un des c...  "
      ],
      "text/html": [
       "<div>\n",
       "<style scoped>\n",
       "    .dataframe tbody tr th:only-of-type {\n",
       "        vertical-align: middle;\n",
       "    }\n",
       "\n",
       "    .dataframe tbody tr th {\n",
       "        vertical-align: top;\n",
       "    }\n",
       "\n",
       "    .dataframe thead th {\n",
       "        text-align: right;\n",
       "    }\n",
       "</style>\n",
       "<table border=\"1\" class=\"dataframe\">\n",
       "  <thead>\n",
       "    <tr style=\"text-align: right;\">\n",
       "      <th></th>\n",
       "      <th>Nom de club</th>\n",
       "      <th>Ville</th>\n",
       "      <th>Terrain</th>\n",
       "      <th>Date de creation</th>\n",
       "      <th>Titres gagnés</th>\n",
       "      <th>President</th>\n",
       "      <th>entraineur</th>\n",
       "      <th>Butteur</th>\n",
       "      <th>Ennemi</th>\n",
       "      <th>Description</th>\n",
       "    </tr>\n",
       "  </thead>\n",
       "  <tbody>\n",
       "    <tr>\n",
       "      <th>0</th>\n",
       "      <td>Wydad</td>\n",
       "      <td>Casablanca</td>\n",
       "      <td>Le stade du Wydad Casablanca est le Complexe S...</td>\n",
       "      <td>Le Wydad Athletic Club, fondé le 8 mai 1937, e...</td>\n",
       "      <td>Le Wydad Athletic Club, plus connu sous le nom...</td>\n",
       "      <td>Le Wydad Casablanca, sous la présidence de Aït...</td>\n",
       "      <td>Le coach actuel du Wydad Casablanca est Adil R...</td>\n",
       "      <td>La saison dernière, le Wydad Casablanca a pu c...</td>\n",
       "      <td>Le principal rival du Wydad Casablanca est le ...</td>\n",
       "      <td>Le Wydad Athletic Club, plus connu sous le nom...</td>\n",
       "    </tr>\n",
       "    <tr>\n",
       "      <th>1</th>\n",
       "      <td>Raja Casablanca</td>\n",
       "      <td>Casablanca</td>\n",
       "      <td>Le stade du Raja Casablanca est le Complexe Sp...</td>\n",
       "      <td>Le Raja Club Athletic de Casablanca a été fond...</td>\n",
       "      <td>Le Raja Club Athletic de Casablanca, l’un des ...</td>\n",
       "      <td>Le président actuel du Raja Club Athletic de C...</td>\n",
       "      <td>Le coach actuel du Raja Casablanca est Florent...</td>\n",
       "      <td>Le meilleur buteur de l’histoire du Raja Casab...</td>\n",
       "      <td>Le principal rival du Raja Casablanca est le W...</td>\n",
       "      <td>Le Raja Club Athletic de Casablanca, communéme...</td>\n",
       "    </tr>\n",
       "    <tr>\n",
       "      <th>2</th>\n",
       "      <td>FAR</td>\n",
       "      <td>Rabat</td>\n",
       "      <td>Le Stade Prince Moulay Abdellah de Rabat est l...</td>\n",
       "      <td>Le FUS Rabat (Fédération Union Sportive de Rab...</td>\n",
       "      <td>Le FAR Rabat (Fusée de l’Armée Royale) est l’u...</td>\n",
       "      <td>Le président du FAR Rabat est Abdelmounaïm Bah...</td>\n",
       "      <td>Le coach du FAR Rabat est actuellement Sofiane...</td>\n",
       "      <td>Le meilleur buteur historique du FAR Rabat est...</td>\n",
       "      <td>Le principal rival du FAR Rabat est le Raja Cl...</td>\n",
       "      <td>Le FAR Rabat (Fus de l’Armée Royale de Rabat) ...</td>\n",
       "    </tr>\n",
       "    <tr>\n",
       "      <th>3</th>\n",
       "      <td>Hassania Agadir</td>\n",
       "      <td>Agadir</td>\n",
       "      <td>Le Stade d’Agadir, également connu sous le nom...</td>\n",
       "      <td>Le Hassania d’Agadir, l’un des clubs les plus ...</td>\n",
       "      <td>Le Hassania d’Agadir a remporté plusieurs titr...</td>\n",
       "      <td>Le président de Hassania Agadir est actuelleme...</td>\n",
       "      <td>Le coach actuel de Hassania Agadir est Mustaph...</td>\n",
       "      <td>Le meilleur buteur de Hassania Agadir est Moha...</td>\n",
       "      <td>Le principal rival de Hassania Agadir est le R...</td>\n",
       "      <td>Le Hassania d’Agadir, fondé en 1946, est un cl...</td>\n",
       "    </tr>\n",
       "    <tr>\n",
       "      <th>4</th>\n",
       "      <td>IRT Tanger</td>\n",
       "      <td>Tanger</td>\n",
       "      <td>Le Stade Ibn Batouta de Tanger, souvent appelé...</td>\n",
       "      <td>Le Stade Ibn Batouta de Tanger a été inauguré ...</td>\n",
       "      <td>Le IRT Tanger (Ittihad Riadi de Tanger) a remp...</td>\n",
       "      <td>Le président de l’Ittihad Riadi de Tanger (IRT...</td>\n",
       "      <td>Le coach de l’Ittihad Riadi de Tanger (IRT) es...</td>\n",
       "      <td>Le meilleur buteur actuel de l’Ittihad Riadi d...</td>\n",
       "      <td>Le principal rival de l’Ittihad Riadi de Tange...</td>\n",
       "      <td>L’Ittihad Riadi de Tanger (IRT) est l’un des c...</td>\n",
       "    </tr>\n",
       "  </tbody>\n",
       "</table>\n",
       "</div>"
      ]
     },
     "execution_count": 24,
     "metadata": {},
     "output_type": "execute_result"
    }
   ],
   "execution_count": 24
  },
  {
   "cell_type": "code",
   "id": "1c5e059f7046817b",
   "metadata": {
    "ExecuteTime": {
     "end_time": "2024-12-12T22:40:37.837547Z",
     "start_time": "2024-12-12T22:40:37.805742Z"
    }
   },
   "source": [
    "df.isna().value_counts()"
   ],
   "outputs": [
    {
     "data": {
      "text/plain": [
       "Nom de club  Ville  Terrain  Date de creation  Titres gagnés  President  entraineur  Butteur  Ennemi  Description\n",
       "False        False  False    False             False          False      False       False    False   False          9\n",
       "Name: count, dtype: int64"
      ]
     },
     "execution_count": 25,
     "metadata": {},
     "output_type": "execute_result"
    }
   ],
   "execution_count": 25
  },
  {
   "cell_type": "code",
   "id": "d049983cc9c79b47",
   "metadata": {
    "ExecuteTime": {
     "end_time": "2024-12-12T22:40:41.274087Z",
     "start_time": "2024-12-12T22:40:41.266443Z"
    }
   },
   "source": [
    "df.fillna(\"None\", inplace=True)"
   ],
   "outputs": [],
   "execution_count": 26
  },
  {
   "cell_type": "markdown",
   "id": "6798a13eea667108",
   "metadata": {},
   "source": [
    "## Convertir chaque field à un vecteur en utilisant le model SBERT \n"
   ]
  },
  {
   "cell_type": "code",
   "id": "66f0b8b602f687c2",
   "metadata": {
    "ExecuteTime": {
     "end_time": "2024-12-12T22:40:49.921194Z",
     "start_time": "2024-12-12T22:40:44.021560Z"
    }
   },
   "source": [
    "from sentence_transformers import SentenceTransformer\n",
    "model = SentenceTransformer('all-mpnet-base-v2')"
   ],
   "outputs": [],
   "execution_count": 27
  },
  {
   "cell_type": "code",
   "id": "2e7e5c8b23a968d6",
   "metadata": {
    "ExecuteTime": {
     "end_time": "2024-12-12T22:40:51.417941Z",
     "start_time": "2024-12-12T22:40:50.737512Z"
    }
   },
   "source": "df[\"Vector\"] = df[\"Nom de club\"].apply(lambda x: model.encode(x))",
   "outputs": [],
   "execution_count": 28
  },
  {
   "cell_type": "code",
   "id": "54587c0e731f9d78",
   "metadata": {
    "ExecuteTime": {
     "end_time": "2024-12-12T22:40:53.266385Z",
     "start_time": "2024-12-12T22:40:53.254065Z"
    }
   },
   "source": [
    "df.head()"
   ],
   "outputs": [
    {
     "data": {
      "text/plain": [
       "       Nom de club       Ville  \\\n",
       "0            Wydad  Casablanca   \n",
       "1  Raja Casablanca  Casablanca   \n",
       "2              FAR       Rabat   \n",
       "3  Hassania Agadir      Agadir   \n",
       "4       IRT Tanger      Tanger   \n",
       "\n",
       "                                             Terrain  \\\n",
       "0  Le stade du Wydad Casablanca est le Complexe S...   \n",
       "1  Le stade du Raja Casablanca est le Complexe Sp...   \n",
       "2  Le Stade Prince Moulay Abdellah de Rabat est l...   \n",
       "3  Le Stade d’Agadir, également connu sous le nom...   \n",
       "4  Le Stade Ibn Batouta de Tanger, souvent appelé...   \n",
       "\n",
       "                                    Date de creation  \\\n",
       "0  Le Wydad Athletic Club, fondé le 8 mai 1937, e...   \n",
       "1  Le Raja Club Athletic de Casablanca a été fond...   \n",
       "2  Le FUS Rabat (Fédération Union Sportive de Rab...   \n",
       "3  Le Hassania d’Agadir, l’un des clubs les plus ...   \n",
       "4  Le Stade Ibn Batouta de Tanger a été inauguré ...   \n",
       "\n",
       "                                       Titres gagnés  \\\n",
       "0  Le Wydad Athletic Club, plus connu sous le nom...   \n",
       "1  Le Raja Club Athletic de Casablanca, l’un des ...   \n",
       "2  Le FAR Rabat (Fusée de l’Armée Royale) est l’u...   \n",
       "3  Le Hassania d’Agadir a remporté plusieurs titr...   \n",
       "4  Le IRT Tanger (Ittihad Riadi de Tanger) a remp...   \n",
       "\n",
       "                                           President  \\\n",
       "0  Le Wydad Casablanca, sous la présidence de Aït...   \n",
       "1  Le président actuel du Raja Club Athletic de C...   \n",
       "2  Le président du FAR Rabat est Abdelmounaïm Bah...   \n",
       "3  Le président de Hassania Agadir est actuelleme...   \n",
       "4  Le président de l’Ittihad Riadi de Tanger (IRT...   \n",
       "\n",
       "                                          entraineur  \\\n",
       "0  Le coach actuel du Wydad Casablanca est Adil R...   \n",
       "1  Le coach actuel du Raja Casablanca est Florent...   \n",
       "2  Le coach du FAR Rabat est actuellement Sofiane...   \n",
       "3  Le coach actuel de Hassania Agadir est Mustaph...   \n",
       "4  Le coach de l’Ittihad Riadi de Tanger (IRT) es...   \n",
       "\n",
       "                                             Butteur  \\\n",
       "0  La saison dernière, le Wydad Casablanca a pu c...   \n",
       "1  Le meilleur buteur de l’histoire du Raja Casab...   \n",
       "2  Le meilleur buteur historique du FAR Rabat est...   \n",
       "3  Le meilleur buteur de Hassania Agadir est Moha...   \n",
       "4  Le meilleur buteur actuel de l’Ittihad Riadi d...   \n",
       "\n",
       "                                              Ennemi  \\\n",
       "0  Le principal rival du Wydad Casablanca est le ...   \n",
       "1  Le principal rival du Raja Casablanca est le W...   \n",
       "2  Le principal rival du FAR Rabat est le Raja Cl...   \n",
       "3  Le principal rival de Hassania Agadir est le R...   \n",
       "4  Le principal rival de l’Ittihad Riadi de Tange...   \n",
       "\n",
       "                                         Description  \\\n",
       "0  Le Wydad Athletic Club, plus connu sous le nom...   \n",
       "1  Le Raja Club Athletic de Casablanca, communéme...   \n",
       "2  Le FAR Rabat (Fus de l’Armée Royale de Rabat) ...   \n",
       "3  Le Hassania d’Agadir, fondé en 1946, est un cl...   \n",
       "4  L’Ittihad Riadi de Tanger (IRT) est l’un des c...   \n",
       "\n",
       "                                              Vector  \n",
       "0  [0.014033089, 0.046324737, 0.043565888, 0.0086...  \n",
       "1  [0.028362693, 0.027327033, -0.010295024, -0.00...  \n",
       "2  [0.010805928, -0.0027506796, -0.004232073, 0.0...  \n",
       "3  [-0.0075021125, 0.08024847, -0.015076168, 0.00...  \n",
       "4  [-0.038104057, -0.06722896, -0.00092780235, 0....  "
      ],
      "text/html": [
       "<div>\n",
       "<style scoped>\n",
       "    .dataframe tbody tr th:only-of-type {\n",
       "        vertical-align: middle;\n",
       "    }\n",
       "\n",
       "    .dataframe tbody tr th {\n",
       "        vertical-align: top;\n",
       "    }\n",
       "\n",
       "    .dataframe thead th {\n",
       "        text-align: right;\n",
       "    }\n",
       "</style>\n",
       "<table border=\"1\" class=\"dataframe\">\n",
       "  <thead>\n",
       "    <tr style=\"text-align: right;\">\n",
       "      <th></th>\n",
       "      <th>Nom de club</th>\n",
       "      <th>Ville</th>\n",
       "      <th>Terrain</th>\n",
       "      <th>Date de creation</th>\n",
       "      <th>Titres gagnés</th>\n",
       "      <th>President</th>\n",
       "      <th>entraineur</th>\n",
       "      <th>Butteur</th>\n",
       "      <th>Ennemi</th>\n",
       "      <th>Description</th>\n",
       "      <th>Vector</th>\n",
       "    </tr>\n",
       "  </thead>\n",
       "  <tbody>\n",
       "    <tr>\n",
       "      <th>0</th>\n",
       "      <td>Wydad</td>\n",
       "      <td>Casablanca</td>\n",
       "      <td>Le stade du Wydad Casablanca est le Complexe S...</td>\n",
       "      <td>Le Wydad Athletic Club, fondé le 8 mai 1937, e...</td>\n",
       "      <td>Le Wydad Athletic Club, plus connu sous le nom...</td>\n",
       "      <td>Le Wydad Casablanca, sous la présidence de Aït...</td>\n",
       "      <td>Le coach actuel du Wydad Casablanca est Adil R...</td>\n",
       "      <td>La saison dernière, le Wydad Casablanca a pu c...</td>\n",
       "      <td>Le principal rival du Wydad Casablanca est le ...</td>\n",
       "      <td>Le Wydad Athletic Club, plus connu sous le nom...</td>\n",
       "      <td>[0.014033089, 0.046324737, 0.043565888, 0.0086...</td>\n",
       "    </tr>\n",
       "    <tr>\n",
       "      <th>1</th>\n",
       "      <td>Raja Casablanca</td>\n",
       "      <td>Casablanca</td>\n",
       "      <td>Le stade du Raja Casablanca est le Complexe Sp...</td>\n",
       "      <td>Le Raja Club Athletic de Casablanca a été fond...</td>\n",
       "      <td>Le Raja Club Athletic de Casablanca, l’un des ...</td>\n",
       "      <td>Le président actuel du Raja Club Athletic de C...</td>\n",
       "      <td>Le coach actuel du Raja Casablanca est Florent...</td>\n",
       "      <td>Le meilleur buteur de l’histoire du Raja Casab...</td>\n",
       "      <td>Le principal rival du Raja Casablanca est le W...</td>\n",
       "      <td>Le Raja Club Athletic de Casablanca, communéme...</td>\n",
       "      <td>[0.028362693, 0.027327033, -0.010295024, -0.00...</td>\n",
       "    </tr>\n",
       "    <tr>\n",
       "      <th>2</th>\n",
       "      <td>FAR</td>\n",
       "      <td>Rabat</td>\n",
       "      <td>Le Stade Prince Moulay Abdellah de Rabat est l...</td>\n",
       "      <td>Le FUS Rabat (Fédération Union Sportive de Rab...</td>\n",
       "      <td>Le FAR Rabat (Fusée de l’Armée Royale) est l’u...</td>\n",
       "      <td>Le président du FAR Rabat est Abdelmounaïm Bah...</td>\n",
       "      <td>Le coach du FAR Rabat est actuellement Sofiane...</td>\n",
       "      <td>Le meilleur buteur historique du FAR Rabat est...</td>\n",
       "      <td>Le principal rival du FAR Rabat est le Raja Cl...</td>\n",
       "      <td>Le FAR Rabat (Fus de l’Armée Royale de Rabat) ...</td>\n",
       "      <td>[0.010805928, -0.0027506796, -0.004232073, 0.0...</td>\n",
       "    </tr>\n",
       "    <tr>\n",
       "      <th>3</th>\n",
       "      <td>Hassania Agadir</td>\n",
       "      <td>Agadir</td>\n",
       "      <td>Le Stade d’Agadir, également connu sous le nom...</td>\n",
       "      <td>Le Hassania d’Agadir, l’un des clubs les plus ...</td>\n",
       "      <td>Le Hassania d’Agadir a remporté plusieurs titr...</td>\n",
       "      <td>Le président de Hassania Agadir est actuelleme...</td>\n",
       "      <td>Le coach actuel de Hassania Agadir est Mustaph...</td>\n",
       "      <td>Le meilleur buteur de Hassania Agadir est Moha...</td>\n",
       "      <td>Le principal rival de Hassania Agadir est le R...</td>\n",
       "      <td>Le Hassania d’Agadir, fondé en 1946, est un cl...</td>\n",
       "      <td>[-0.0075021125, 0.08024847, -0.015076168, 0.00...</td>\n",
       "    </tr>\n",
       "    <tr>\n",
       "      <th>4</th>\n",
       "      <td>IRT Tanger</td>\n",
       "      <td>Tanger</td>\n",
       "      <td>Le Stade Ibn Batouta de Tanger, souvent appelé...</td>\n",
       "      <td>Le Stade Ibn Batouta de Tanger a été inauguré ...</td>\n",
       "      <td>Le IRT Tanger (Ittihad Riadi de Tanger) a remp...</td>\n",
       "      <td>Le président de l’Ittihad Riadi de Tanger (IRT...</td>\n",
       "      <td>Le coach de l’Ittihad Riadi de Tanger (IRT) es...</td>\n",
       "      <td>Le meilleur buteur actuel de l’Ittihad Riadi d...</td>\n",
       "      <td>Le principal rival de l’Ittihad Riadi de Tange...</td>\n",
       "      <td>L’Ittihad Riadi de Tanger (IRT) est l’un des c...</td>\n",
       "      <td>[-0.038104057, -0.06722896, -0.00092780235, 0....</td>\n",
       "    </tr>\n",
       "  </tbody>\n",
       "</table>\n",
       "</div>"
      ]
     },
     "execution_count": 29,
     "metadata": {},
     "output_type": "execute_result"
    }
   ],
   "execution_count": 29
  },
  {
   "cell_type": "code",
   "id": "f313a55b0457243a",
   "metadata": {
    "ExecuteTime": {
     "end_time": "2024-12-12T22:40:57.355415Z",
     "start_time": "2024-12-12T22:40:57.320719Z"
    }
   },
   "source": [
    "es.ping()"
   ],
   "outputs": [
    {
     "name": "stderr",
     "output_type": "stream",
     "text": [
      "/Users/tarik/Desktop/SRI-Project/python-indecationData/venv/lib/python3.13/site-packages/urllib3/connectionpool.py:1099: InsecureRequestWarning: Unverified HTTPS request is being made to host 'localhost'. Adding certificate verification is strongly advised. See: https://urllib3.readthedocs.io/en/latest/advanced-usage.html#tls-warnings\n",
      "  warnings.warn(\n"
     ]
    },
    {
     "data": {
      "text/plain": [
       "True"
      ]
     },
     "execution_count": 30,
     "metadata": {},
     "output_type": "execute_result"
    }
   ],
   "execution_count": 30
  },
  {
   "cell_type": "markdown",
   "id": "b3448a5eea61d9f1",
   "metadata": {},
   "source": [
    "## Create new index in ElasticSearch!\n"
   ]
  },
  {
   "cell_type": "code",
   "id": "34ec7635edc7446b",
   "metadata": {
    "ExecuteTime": {
     "end_time": "2024-12-12T22:41:08.584064Z",
     "start_time": "2024-12-12T22:41:07.691437Z"
    }
   },
   "source": [
    "from indexMapping import indexMapping\n",
    "es.indices.create(index=\"equipev1-indexing\", mappings=indexMapping)"
   ],
   "outputs": [
    {
     "name": "stderr",
     "output_type": "stream",
     "text": [
      "/Users/tarik/Desktop/SRI-Project/python-indecationData/venv/lib/python3.13/site-packages/urllib3/connectionpool.py:1099: InsecureRequestWarning: Unverified HTTPS request is being made to host 'localhost'. Adding certificate verification is strongly advised. See: https://urllib3.readthedocs.io/en/latest/advanced-usage.html#tls-warnings\n",
      "  warnings.warn(\n"
     ]
    },
    {
     "data": {
      "text/plain": [
       "ObjectApiResponse({'acknowledged': True, 'shards_acknowledged': True, 'index': 'equipev1-indexing'})"
      ]
     },
     "execution_count": 31,
     "metadata": {},
     "output_type": "execute_result"
    }
   ],
   "execution_count": 31
  },
  {
   "cell_type": "markdown",
   "id": "a7ecf3f777d4820e",
   "metadata": {},
   "source": []
  },
  {
   "cell_type": "markdown",
   "id": "5c8849c30522f5dc",
   "metadata": {},
   "source": [
    "## Pour ingérer des données dans un index Elasticsearch\n"
   ]
  },
  {
   "cell_type": "markdown",
   "id": "6377ee5f3db31325",
   "metadata": {},
   "source": []
  },
  {
   "cell_type": "code",
   "id": "68caef8264f4af21",
   "metadata": {
    "ExecuteTime": {
     "end_time": "2024-12-12T22:41:13.374472Z",
     "start_time": "2024-12-12T22:41:13.367395Z"
    }
   },
   "source": [
    "record_list = df.to_dict(\"records\")"
   ],
   "outputs": [],
   "execution_count": 32
  },
  {
   "cell_type": "code",
   "id": "87db5814b4263fae",
   "metadata": {
    "ExecuteTime": {
     "end_time": "2024-12-12T22:41:19.165652Z",
     "start_time": "2024-12-12T22:41:18.087382Z"
    }
   },
   "source": [
    "for record in record_list:\n",
    "    try:\n",
    "        es.index(index=\"equipev1-indexing\", document=record)\n",
    "    except Exception as e:\n",
    "        print(e)"
   ],
   "outputs": [
    {
     "name": "stderr",
     "output_type": "stream",
     "text": [
      "/Users/tarik/Desktop/SRI-Project/python-indecationData/venv/lib/python3.13/site-packages/urllib3/connectionpool.py:1099: InsecureRequestWarning: Unverified HTTPS request is being made to host 'localhost'. Adding certificate verification is strongly advised. See: https://urllib3.readthedocs.io/en/latest/advanced-usage.html#tls-warnings\n",
      "  warnings.warn(\n",
      "/Users/tarik/Desktop/SRI-Project/python-indecationData/venv/lib/python3.13/site-packages/urllib3/connectionpool.py:1099: InsecureRequestWarning: Unverified HTTPS request is being made to host 'localhost'. Adding certificate verification is strongly advised. See: https://urllib3.readthedocs.io/en/latest/advanced-usage.html#tls-warnings\n",
      "  warnings.warn(\n",
      "/Users/tarik/Desktop/SRI-Project/python-indecationData/venv/lib/python3.13/site-packages/urllib3/connectionpool.py:1099: InsecureRequestWarning: Unverified HTTPS request is being made to host 'localhost'. Adding certificate verification is strongly advised. See: https://urllib3.readthedocs.io/en/latest/advanced-usage.html#tls-warnings\n",
      "  warnings.warn(\n",
      "/Users/tarik/Desktop/SRI-Project/python-indecationData/venv/lib/python3.13/site-packages/urllib3/connectionpool.py:1099: InsecureRequestWarning: Unverified HTTPS request is being made to host 'localhost'. Adding certificate verification is strongly advised. See: https://urllib3.readthedocs.io/en/latest/advanced-usage.html#tls-warnings\n",
      "  warnings.warn(\n",
      "/Users/tarik/Desktop/SRI-Project/python-indecationData/venv/lib/python3.13/site-packages/urllib3/connectionpool.py:1099: InsecureRequestWarning: Unverified HTTPS request is being made to host 'localhost'. Adding certificate verification is strongly advised. See: https://urllib3.readthedocs.io/en/latest/advanced-usage.html#tls-warnings\n",
      "  warnings.warn(\n",
      "/Users/tarik/Desktop/SRI-Project/python-indecationData/venv/lib/python3.13/site-packages/urllib3/connectionpool.py:1099: InsecureRequestWarning: Unverified HTTPS request is being made to host 'localhost'. Adding certificate verification is strongly advised. See: https://urllib3.readthedocs.io/en/latest/advanced-usage.html#tls-warnings\n",
      "  warnings.warn(\n",
      "/Users/tarik/Desktop/SRI-Project/python-indecationData/venv/lib/python3.13/site-packages/urllib3/connectionpool.py:1099: InsecureRequestWarning: Unverified HTTPS request is being made to host 'localhost'. Adding certificate verification is strongly advised. See: https://urllib3.readthedocs.io/en/latest/advanced-usage.html#tls-warnings\n",
      "  warnings.warn(\n",
      "/Users/tarik/Desktop/SRI-Project/python-indecationData/venv/lib/python3.13/site-packages/urllib3/connectionpool.py:1099: InsecureRequestWarning: Unverified HTTPS request is being made to host 'localhost'. Adding certificate verification is strongly advised. See: https://urllib3.readthedocs.io/en/latest/advanced-usage.html#tls-warnings\n",
      "  warnings.warn(\n",
      "/Users/tarik/Desktop/SRI-Project/python-indecationData/venv/lib/python3.13/site-packages/urllib3/connectionpool.py:1099: InsecureRequestWarning: Unverified HTTPS request is being made to host 'localhost'. Adding certificate verification is strongly advised. See: https://urllib3.readthedocs.io/en/latest/advanced-usage.html#tls-warnings\n",
      "  warnings.warn(\n"
     ]
    }
   ],
   "execution_count": 33
  },
  {
   "cell_type": "code",
   "id": "6778b855bfe54569",
   "metadata": {
    "ExecuteTime": {
     "end_time": "2024-12-12T22:41:25.849493Z",
     "start_time": "2024-12-12T22:41:25.742024Z"
    }
   },
   "source": "es.count(index=\"equipev1-indexing\")['count']",
   "outputs": [
    {
     "name": "stderr",
     "output_type": "stream",
     "text": [
      "/Users/tarik/Desktop/SRI-Project/python-indecationData/venv/lib/python3.13/site-packages/urllib3/connectionpool.py:1099: InsecureRequestWarning: Unverified HTTPS request is being made to host 'localhost'. Adding certificate verification is strongly advised. See: https://urllib3.readthedocs.io/en/latest/advanced-usage.html#tls-warnings\n",
      "  warnings.warn(\n"
     ]
    },
    {
     "data": {
      "text/plain": [
       "9"
      ]
     },
     "execution_count": 34,
     "metadata": {},
     "output_type": "execute_result"
    }
   ],
   "execution_count": 34
  },
  {
   "cell_type": "code",
   "id": "c775641678cd11e",
   "metadata": {
    "ExecuteTime": {
     "end_time": "2024-12-12T22:36:06.857512Z",
     "start_time": "2024-12-12T22:36:05.758299Z"
    }
   },
   "source": [
    "\n",
    "import re\n",
    "\n",
    "\n",
    "keyWord_Search = [\n",
    "    \"President\",\"Ville\", \"Description\", \"Nom du club\", \"Terrain\", \"Date de creation\",\"Butteur\",\"Ennemi\",\"entraineur\"\n",
    "\n",
    "]\n",
    "\n",
    "def extarct_keyWord(input_text, team_list):\n",
    "    str_found = []\n",
    "    for team in team_list:\n",
    "        if re.search(rf'\\b{team}\\b', input_text, re.IGNORECASE):\n",
    "            str_found.append(team)\n",
    "    return str_found\n",
    "\n",
    "input =\"le president de raja\";\n",
    "data = extarct_keyWord(input,keyWord_Search);\n",
    "print(data)\n",
    "\n",
    "vector_of_input_keyword = model.encode(input)\n",
    "\n",
    "query = {\n",
    "    \"field\": \"Vector\",\n",
    "    \"query_vector\": vector_of_input_keyword,\n",
    "    \"k\": es.count(index=\"equipev1-indexing\")['count'],\n",
    "    \"num_candidates\": 500\n",
    "}\n",
    "res = es.knn_search(\n",
    "    index=\"equipe-indexing\",\n",
    "    knn=query,\n",
    "    _source=[\"Nom de club\"]+[d for d in data]\n",
    ")\n",
    "print(res['hits']['hits'])\n",
    "\n"
   ],
   "outputs": [
    {
     "name": "stdout",
     "output_type": "stream",
     "text": [
      "['President']\n"
     ]
    },
    {
     "name": "stderr",
     "output_type": "stream",
     "text": [
      "/Users/tarik/Desktop/SRI-Project/python-indecationData/venv/lib/python3.13/site-packages/urllib3/connectionpool.py:1099: InsecureRequestWarning: Unverified HTTPS request is being made to host 'localhost'. Adding certificate verification is strongly advised. See: https://urllib3.readthedocs.io/en/latest/advanced-usage.html#tls-warnings\n",
      "  warnings.warn(\n",
      "/var/folders/pl/v43d5c6j1ys41r8g5j39rt380000gn/T/ipykernel_17583/2016704964.py:28: GeneralAvailabilityWarning: This API is in technical preview and may be changed or removed in a future release. Elastic will work to fix any issues, but features in technical preview are not subject to the support SLA of official GA features.\n",
      "  res = es.knn_search(\n",
      "/Users/tarik/Desktop/SRI-Project/python-indecationData/venv/lib/python3.13/site-packages/urllib3/connectionpool.py:1099: InsecureRequestWarning: Unverified HTTPS request is being made to host 'localhost'. Adding certificate verification is strongly advised. See: https://urllib3.readthedocs.io/en/latest/advanced-usage.html#tls-warnings\n",
      "  warnings.warn(\n"
     ]
    },
    {
     "name": "stdout",
     "output_type": "stream",
     "text": [
      "[{'_index': 'equipe-indexing', '_id': 'HtcBvZMB7j9tDZcPRF7F', '_score': 0.5407832, '_source': {'Nom de club': 'Raja', 'President': 'Le président actuel du Raja Club Athletic de Casablanca est Rachid Andaloussi. Il a pris la présidence du club en 2020 et a joué un rôle clé dans la gestion et le développement du Raja, un des clubs les plus prestigieux du Maroc.'}}, {'_index': 'equipe-indexing', '_id': 'ItcBvZMB7j9tDZcPRV4g', '_score': 0.45216477, '_source': {'Nom de club': 'Mouloudia Oujda', 'President': 'Le président du Mouloudia Club d’Oujda (MCO) est un acteur clé dans la gestion et le développement du club. Il a joué un rôle central dans la direction stratégique et financière du club, avec un objectif constant d’améliorer les performances de l’équipe sur le terrain et de renforcer la structure organisationnelle du MCO. Son leadership vise à redonner au club ses lettres de noblesse, en investissant dans les infrastructures, la formation des jeunes joueurs et en créant une dynamique positive autour de l’équipe. Son engagement envers le club et la ville d’Oujda est essentiel pour maintenir la compétitivité du Mouloudia sur la scène nationale et dans les compétitions africaines.'}}, {'_index': 'equipe-indexing', '_id': 'INcBvZMB7j9tDZcPRF79', '_score': 0.4450802, '_source': {'Nom de club': 'Hassania Agadir', 'President': 'Le président de Hassania Agadir est actuellement Moulay Hafid El Alaoui, un dirigeant respecté dans le monde du football marocain. Sous sa présidence, le club a cherché à renforcer ses performances tant au niveau national qu’international. El Alaoui a mis l’accent sur la gestion professionnelle du club et a travaillé pour améliorer les infrastructures, tout en renforçant l’équipe avec de nouveaux talents. Son leadership a été crucial pour maintenir la stabilité du club et pour favoriser un environnement propice à la réussite des joueurs. En plus de ses responsabilités administratives, il a également soutenu les efforts de développement du football local et la croissance du club à travers une vision stratégique à long terme.'}}, {'_index': 'equipe-indexing', '_id': 'JdcBvZMB7j9tDZcPRV5J', '_score': 0.44144255, '_source': {'Nom de club': 'Maghreb de Fès', 'President': 'Le président du Maghreb de Fès (MAS) est une figure centrale dans la gestion et le développement du club, jouant un rôle crucial dans la prise de décisions stratégiques et le maintien de la réputation du MAS sur les scènes nationale et internationale. Il est chargé de superviser les activités sportives, de renforcer les infrastructures et de gérer les relations avec les supporters ainsi que les sponsors. Sous sa direction, le MAS continue de viser l’excellence et de consolider sa position parmi les clubs les plus respectés du Maroc.'}}, {'_index': 'equipe-indexing', '_id': 'I9cBvZMB7j9tDZcPRV4u', '_score': 0.428766, '_source': {'Nom de club': 'FUS Rabat', 'President': 'Le président du Fath Union Sport (FUS) Rabat est Salah El Arabi. Sous sa direction, le club a connu une période de stabilité et de développement. Il a joué un rôle clé dans la gestion et la croissance du club, en mettant en place des stratégies visant à renforcer l’équipe tant sur le plan sportif qu’administratif. Salah El Arabi est connu pour son engagement envers le FUS Rabat, en veillant à ce que le club reste compétitif dans les différentes compétitions nationales et internationales. Sa vision et son leadership ont été des facteurs déterminants dans les succès récents du club, lui permettant d’accéder à de nouveaux sommets dans le football marocain'}}, {'_index': 'equipe-indexing', '_id': 'JNcBvZMB7j9tDZcPRV48', '_score': 0.42026904, '_source': {'Nom de club': 'Renaissance Berkane', 'President': 'Le président de la Renaissance Sportive de Berkane (RSB) est Mr. Abdelhakim Serrar. Il joue un rôle essentiel dans la gestion du club et son développement, en veillant à ce que l’équipe reste compétitive tant sur le plan national qu’international. Sous sa présidence, la RSB a connu un renouveau important, avec des performances notables en Botola Pro et dans les compétitions africaines. Son leadership est crucial pour l’avenir du club et pour maintenir la RSB parmi les meilleures équipes du football marocain.'}}, {'_index': 'equipe-indexing', '_id': 'IdcBvZMB7j9tDZcPRV4R', '_score': 0.38836998, '_source': {'Nom de club': 'IRT Tanger', 'President': 'Le président de l’Ittihad Riadi de Tanger (IRT) est actuellement Mohamed Hajjaj. Sous sa présidence, le club a cherché à renforcer ses structures et à améliorer ses performances sur le terrain. Mohamed Hajjaj est un homme d’affaires influent dans la région de Tanger et a joué un rôle clé dans le soutien financier et la gestion stratégique du club. Il est engagé à ramener l’IRT parmi les meilleures équipes de la Botola Pro, en mettant l’accent sur l’acquisition de nouveaux talents, l’amélioration des infrastructures et la gestion professionnelle du club. Son leadership est souvent vu comme un moteur essentiel dans la recherche de succès pour l’équipe.'}}, {'_index': 'equipe-indexing', '_id': 'HdcBvZMB7j9tDZcPRF5x', '_score': 0.36073616, '_source': {'Nom de club': 'Wydad', 'President': 'Le Wydad Casablanca, sous la présidence de Aït Manana, continue de briller comme l’une des équipes les plus emblématiques du football marocain. Avec un riche palmarès et une histoire profondément ancrée dans la passion du sport, le club attire l’attention non seulement par ses performances sur le terrain mais également par sa gestion ambitieuse. Aït Manana, en tant que président, joue un rôle clé dans la modernisation et le développement stratégique du club, tout en préservant l’esprit compétitif et les valeurs historiques qui font du Wydad une institution sportive incontournable au Maroc et en Afrique.'}}, {'_index': 'equipe-indexing', '_id': 'H9cBvZMB7j9tDZcPRF7q', '_score': 0.34087604, '_source': {'Nom de club': 'FAR', 'President': 'Le président du FAR Rabat est Abdelmounaïm Bah, un homme d’affaires influent qui occupe ce rôle depuis plusieurs années. Sous sa présidence, le club a continué à prospérer sur le plan sportif et à renforcer sa position parmi les meilleures équipes de football du Maroc. Abdelmounaïm Bah est reconnu pour sa gestion stratégique et son investissement dans les infrastructures et les ressources humaines du club, contribuant ainsi à maintenir le FAR Rabat parmi les clubs les plus compétitifs du championnat marocain. Son leadership et sa vision ont été essentiels dans le maintien de la stabilité du club tout en visant de nouveaux titres nationaux et internationaux.'}}]\n"
     ]
    },
    {
     "name": "stderr",
     "output_type": "stream",
     "text": [
      "/var/folders/pl/v43d5c6j1ys41r8g5j39rt380000gn/T/ipykernel_17583/2016704964.py:28: ElasticsearchWarning: The kNN search API has been replaced by the `knn` option in the search API.\n",
      "  res = es.knn_search(\n"
     ]
    }
   ],
   "execution_count": 21
  },
  {
   "cell_type": "code",
   "execution_count": null,
   "id": "1dbb91c9ed8217cd",
   "metadata": {},
   "outputs": [],
   "source": []
  }
 ],
 "metadata": {
  "kernelspec": {
   "display_name": "Python 3",
   "language": "python",
   "name": "python3"
  },
  "language_info": {
   "codemirror_mode": {
    "name": "ipython",
    "version": 3
   },
   "file_extension": ".py",
   "mimetype": "text/x-python",
   "name": "python",
   "nbconvert_exporter": "python",
   "pygments_lexer": "ipython3",
   "version": "3.13.0"
  }
 },
 "nbformat": 4,
 "nbformat_minor": 5
}
