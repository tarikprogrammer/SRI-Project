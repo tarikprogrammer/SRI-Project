{
 "cells": [
  {
   "cell_type": "code",
   "id": "initial_id",
   "metadata": {
    "collapsed": true,
    "ExecuteTime": {
     "end_time": "2024-12-04T19:07:34.668270Z",
     "start_time": "2024-12-04T19:07:34.454216Z"
    }
   },
   "source": [
    "from IPython.utils.openpy import source_to_unicode\n",
    "from elasticsearch import Elasticsearch\n",
    "from scipy.special import result\n",
    "from torchvision.transforms.v2.functional import resize"
   ],
   "outputs": [],
   "execution_count": 4
  },
  {
   "cell_type": "code",
   "id": "c20236677ff6886e",
   "metadata": {
    "ExecuteTime": {
     "end_time": "2024-12-05T00:29:25.041433Z",
     "start_time": "2024-12-05T00:29:24.703187Z"
    }
   },
   "source": [
    "es = Elasticsearch(\n",
    "    \"https://192.168.63.251:9200/\",\n",
    "    basic_auth=(\"elastic\", \"a4TGsZ3hZzRdI5fIU*dw\"),\n",
    "    verify_certs=False\n",
    "  \n",
    "    \n",
    ")\n",
    "es.ping()"
   ],
   "outputs": [
    {
     "name": "stderr",
     "output_type": "stream",
     "text": [
      "/Users/tarik/Desktop/SRI-Project/python-indecationData/venv/lib/python3.13/site-packages/elasticsearch/_sync/client/__init__.py:402: SecurityWarning: Connecting to 'https://192.168.63.251:9200' using TLS with verify_certs=False is insecure\n",
      "  _transport = transport_class(\n",
      "/Users/tarik/Desktop/SRI-Project/python-indecationData/venv/lib/python3.13/site-packages/urllib3/connectionpool.py:1099: InsecureRequestWarning: Unverified HTTPS request is being made to host '192.168.63.251'. Adding certificate verification is strongly advised. See: https://urllib3.readthedocs.io/en/latest/advanced-usage.html#tls-warnings\n",
      "  warnings.warn(\n"
     ]
    },
    {
     "data": {
      "text/plain": [
       "True"
      ]
     },
     "execution_count": 369,
     "metadata": {},
     "output_type": "execute_result"
    }
   ],
   "execution_count": 369
  },
  {
   "cell_type": "markdown",
   "id": "a856f8f95b60869c",
   "metadata": {},
   "source": [
    "## Préparation des données du botola Pro INWI du MAROC \n"
   ]
  },
  {
   "cell_type": "code",
   "id": "548f6121ff66babe",
   "metadata": {
    "ExecuteTime": {
     "end_time": "2024-12-05T00:29:27.706396Z",
     "start_time": "2024-12-05T00:29:27.681782Z"
    }
   },
   "source": [
    "import pandas as pd"
   ],
   "outputs": [],
   "execution_count": 370
  },
  {
   "cell_type": "code",
   "id": "e2db877301ce3f3e",
   "metadata": {
    "ExecuteTime": {
     "end_time": "2024-12-05T00:33:31.745036Z",
     "start_time": "2024-12-05T00:33:31.677746Z"
    }
   },
   "source": [
    "df = pd.read_csv(\"data_botola_inwi.csv\", sep=';')\n",
    "df.head()"
   ],
   "outputs": [
    {
     "data": {
      "text/plain": [
       "        Nom de club       Ville  \\\n",
       "0  Wydad Casablanca  Casablanca   \n",
       "1   Raja Casablanca  Casablanca   \n",
       "2         FAR Rabat       Rabat   \n",
       "3   Hassania Agadir      Agadir   \n",
       "4        IRT Tanger      Tanger   \n",
       "\n",
       "                                             Terrain  \\\n",
       "0  Le stade du Wydad Casablanca est le Complexe S...   \n",
       "1  Le stade du Raja Casablanca est le Complexe Sp...   \n",
       "2  Le Stade Prince Moulay Abdellah de Rabat est l...   \n",
       "3  Le Stade d’Agadir, également connu sous le nom...   \n",
       "4  Le Stade Ibn Batouta de Tanger, souvent appelé...   \n",
       "\n",
       "                                    Date de creation  \\\n",
       "0  Le Wydad Athletic Club, fondé le 8 mai 1937, e...   \n",
       "1  Le Raja Club Athletic de Casablanca a été fond...   \n",
       "2  Le FUS Rabat (Fédération Union Sportive de Rab...   \n",
       "3  Le Hassania d’Agadir, l’un des clubs les plus ...   \n",
       "4  Le Stade Ibn Batouta de Tanger a été inauguré ...   \n",
       "\n",
       "                                       Titres gagnés  \\\n",
       "0  Le Wydad Athletic Club, plus connu sous le nom...   \n",
       "1  Le Raja Club Athletic de Casablanca, l’un des ...   \n",
       "2  Le FAR Rabat (Fusée de l’Armée Royale) est l’u...   \n",
       "3  Le Hassania d’Agadir a remporté plusieurs titr...   \n",
       "4  Le IRT Tanger (Ittihad Riadi de Tanger) a remp...   \n",
       "\n",
       "                                           President  \\\n",
       "0  Le Wydad Casablanca, sous la présidence de Aït...   \n",
       "1  Le président actuel du Raja Club Athletic de C...   \n",
       "2  Le président du FAR Rabat est Abdelmounaïm Bah...   \n",
       "3  Le président de Hassania Agadir est actuelleme...   \n",
       "4  Le président de l’Ittihad Riadi de Tanger (IRT...   \n",
       "\n",
       "                                          entraineur  \\\n",
       "0  Le coach actuel du Wydad Casablanca est Adil R...   \n",
       "1  Le coach actuel du Raja Casablanca est Florent...   \n",
       "2  Le coach du FAR Rabat est actuellement Sofiane...   \n",
       "3  Le coach actuel de Hassania Agadir est Mustaph...   \n",
       "4  Le coach de l’Ittihad Riadi de Tanger (IRT) es...   \n",
       "\n",
       "                                             Butteur  \\\n",
       "0  La saison dernière, le Wydad Casablanca a pu c...   \n",
       "1  Le meilleur buteur de l’histoire du Raja Casab...   \n",
       "2  Le meilleur buteur historique du FAR Rabat est...   \n",
       "3  Le meilleur buteur de Hassania Agadir est Moha...   \n",
       "4  Le meilleur buteur actuel de l’Ittihad Riadi d...   \n",
       "\n",
       "                                              Ennemi  \\\n",
       "0  Le principal rival du Wydad Casablanca est le ...   \n",
       "1  Le principal rival du Raja Casablanca est le W...   \n",
       "2  Le principal rival du FAR Rabat est le Raja Cl...   \n",
       "3  Le principal rival de Hassania Agadir est le R...   \n",
       "4  Le principal rival de l’Ittihad Riadi de Tange...   \n",
       "\n",
       "                                         Description  \n",
       "0  Le Wydad Athletic Club, plus connu sous le nom...  \n",
       "1  Le Raja Club Athletic de Casablanca, communéme...  \n",
       "2  Le FAR Rabat (Fus de l’Armée Royale de Rabat) ...  \n",
       "3  Le Hassania d’Agadir, fondé en 1946, est un cl...  \n",
       "4  L’Ittihad Riadi de Tanger (IRT) est l’un des c...  "
      ],
      "text/html": [
       "<div>\n",
       "<style scoped>\n",
       "    .dataframe tbody tr th:only-of-type {\n",
       "        vertical-align: middle;\n",
       "    }\n",
       "\n",
       "    .dataframe tbody tr th {\n",
       "        vertical-align: top;\n",
       "    }\n",
       "\n",
       "    .dataframe thead th {\n",
       "        text-align: right;\n",
       "    }\n",
       "</style>\n",
       "<table border=\"1\" class=\"dataframe\">\n",
       "  <thead>\n",
       "    <tr style=\"text-align: right;\">\n",
       "      <th></th>\n",
       "      <th>Nom de club</th>\n",
       "      <th>Ville</th>\n",
       "      <th>Terrain</th>\n",
       "      <th>Date de creation</th>\n",
       "      <th>Titres gagnés</th>\n",
       "      <th>President</th>\n",
       "      <th>entraineur</th>\n",
       "      <th>Butteur</th>\n",
       "      <th>Ennemi</th>\n",
       "      <th>Description</th>\n",
       "    </tr>\n",
       "  </thead>\n",
       "  <tbody>\n",
       "    <tr>\n",
       "      <th>0</th>\n",
       "      <td>Wydad Casablanca</td>\n",
       "      <td>Casablanca</td>\n",
       "      <td>Le stade du Wydad Casablanca est le Complexe S...</td>\n",
       "      <td>Le Wydad Athletic Club, fondé le 8 mai 1937, e...</td>\n",
       "      <td>Le Wydad Athletic Club, plus connu sous le nom...</td>\n",
       "      <td>Le Wydad Casablanca, sous la présidence de Aït...</td>\n",
       "      <td>Le coach actuel du Wydad Casablanca est Adil R...</td>\n",
       "      <td>La saison dernière, le Wydad Casablanca a pu c...</td>\n",
       "      <td>Le principal rival du Wydad Casablanca est le ...</td>\n",
       "      <td>Le Wydad Athletic Club, plus connu sous le nom...</td>\n",
       "    </tr>\n",
       "    <tr>\n",
       "      <th>1</th>\n",
       "      <td>Raja Casablanca</td>\n",
       "      <td>Casablanca</td>\n",
       "      <td>Le stade du Raja Casablanca est le Complexe Sp...</td>\n",
       "      <td>Le Raja Club Athletic de Casablanca a été fond...</td>\n",
       "      <td>Le Raja Club Athletic de Casablanca, l’un des ...</td>\n",
       "      <td>Le président actuel du Raja Club Athletic de C...</td>\n",
       "      <td>Le coach actuel du Raja Casablanca est Florent...</td>\n",
       "      <td>Le meilleur buteur de l’histoire du Raja Casab...</td>\n",
       "      <td>Le principal rival du Raja Casablanca est le W...</td>\n",
       "      <td>Le Raja Club Athletic de Casablanca, communéme...</td>\n",
       "    </tr>\n",
       "    <tr>\n",
       "      <th>2</th>\n",
       "      <td>FAR Rabat</td>\n",
       "      <td>Rabat</td>\n",
       "      <td>Le Stade Prince Moulay Abdellah de Rabat est l...</td>\n",
       "      <td>Le FUS Rabat (Fédération Union Sportive de Rab...</td>\n",
       "      <td>Le FAR Rabat (Fusée de l’Armée Royale) est l’u...</td>\n",
       "      <td>Le président du FAR Rabat est Abdelmounaïm Bah...</td>\n",
       "      <td>Le coach du FAR Rabat est actuellement Sofiane...</td>\n",
       "      <td>Le meilleur buteur historique du FAR Rabat est...</td>\n",
       "      <td>Le principal rival du FAR Rabat est le Raja Cl...</td>\n",
       "      <td>Le FAR Rabat (Fus de l’Armée Royale de Rabat) ...</td>\n",
       "    </tr>\n",
       "    <tr>\n",
       "      <th>3</th>\n",
       "      <td>Hassania Agadir</td>\n",
       "      <td>Agadir</td>\n",
       "      <td>Le Stade d’Agadir, également connu sous le nom...</td>\n",
       "      <td>Le Hassania d’Agadir, l’un des clubs les plus ...</td>\n",
       "      <td>Le Hassania d’Agadir a remporté plusieurs titr...</td>\n",
       "      <td>Le président de Hassania Agadir est actuelleme...</td>\n",
       "      <td>Le coach actuel de Hassania Agadir est Mustaph...</td>\n",
       "      <td>Le meilleur buteur de Hassania Agadir est Moha...</td>\n",
       "      <td>Le principal rival de Hassania Agadir est le R...</td>\n",
       "      <td>Le Hassania d’Agadir, fondé en 1946, est un cl...</td>\n",
       "    </tr>\n",
       "    <tr>\n",
       "      <th>4</th>\n",
       "      <td>IRT Tanger</td>\n",
       "      <td>Tanger</td>\n",
       "      <td>Le Stade Ibn Batouta de Tanger, souvent appelé...</td>\n",
       "      <td>Le Stade Ibn Batouta de Tanger a été inauguré ...</td>\n",
       "      <td>Le IRT Tanger (Ittihad Riadi de Tanger) a remp...</td>\n",
       "      <td>Le président de l’Ittihad Riadi de Tanger (IRT...</td>\n",
       "      <td>Le coach de l’Ittihad Riadi de Tanger (IRT) es...</td>\n",
       "      <td>Le meilleur buteur actuel de l’Ittihad Riadi d...</td>\n",
       "      <td>Le principal rival de l’Ittihad Riadi de Tange...</td>\n",
       "      <td>L’Ittihad Riadi de Tanger (IRT) est l’un des c...</td>\n",
       "    </tr>\n",
       "  </tbody>\n",
       "</table>\n",
       "</div>"
      ]
     },
     "execution_count": 373,
     "metadata": {},
     "output_type": "execute_result"
    }
   ],
   "execution_count": 373
  },
  {
   "cell_type": "code",
   "id": "1c5e059f7046817b",
   "metadata": {
    "ExecuteTime": {
     "end_time": "2024-12-05T00:34:35.884111Z",
     "start_time": "2024-12-05T00:34:35.826768Z"
    }
   },
   "source": [
    "df.isna().value_counts()"
   ],
   "outputs": [
    {
     "data": {
      "text/plain": [
       "Nom de club  Ville  Terrain  Date de creation  Titres gagnés  President  entraineur  Butteur  Ennemi  Description\n",
       "False        False  False    False             False          False      False       False    False   False          9\n",
       "Name: count, dtype: int64"
      ]
     },
     "execution_count": 374,
     "metadata": {},
     "output_type": "execute_result"
    }
   ],
   "execution_count": 374
  },
  {
   "cell_type": "code",
   "id": "d049983cc9c79b47",
   "metadata": {
    "ExecuteTime": {
     "end_time": "2024-12-05T00:34:44.705702Z",
     "start_time": "2024-12-05T00:34:44.699623Z"
    }
   },
   "source": [
    "df.fillna(\"None\", inplace=True)"
   ],
   "outputs": [],
   "execution_count": 375
  },
  {
   "cell_type": "markdown",
   "id": "6798a13eea667108",
   "metadata": {},
   "source": [
    "## Convertir chaque field à un vecteur en utilisant le model SBERT \n"
   ]
  },
  {
   "cell_type": "code",
   "id": "66f0b8b602f687c2",
   "metadata": {
    "ExecuteTime": {
     "end_time": "2024-12-05T02:11:25.353283Z",
     "start_time": "2024-12-05T02:11:20.757705Z"
    }
   },
   "source": [
    "from sentence_transformers import SentenceTransformer\n",
    "model = SentenceTransformer('all-mpnet-base-v2')"
   ],
   "outputs": [],
   "execution_count": 412
  },
  {
   "metadata": {
    "ExecuteTime": {
     "end_time": "2024-12-05T02:16:08.279866Z",
     "start_time": "2024-12-05T02:16:07.001704Z"
    }
   },
   "cell_type": "code",
   "source": "df[\"Vector\"] = df[\"Nom de club\"].apply(lambda x: model.encode(x))",
   "id": "2e7e5c8b23a968d6",
   "outputs": [],
   "execution_count": 425
  },
  {
   "metadata": {
    "ExecuteTime": {
     "end_time": "2024-12-05T02:16:09.258583Z",
     "start_time": "2024-12-05T02:16:09.227674Z"
    }
   },
   "cell_type": "code",
   "source": "df.head()",
   "id": "54587c0e731f9d78",
   "outputs": [
    {
     "data": {
      "text/plain": [
       "        Nom de club       Ville  \\\n",
       "0  Wydad Casablanca  Casablanca   \n",
       "1   Raja Casablanca  Casablanca   \n",
       "2         FAR Rabat       Rabat   \n",
       "3   Hassania Agadir      Agadir   \n",
       "4        IRT Tanger      Tanger   \n",
       "\n",
       "                                             Terrain  \\\n",
       "0  Le stade du Wydad Casablanca est le Complexe S...   \n",
       "1  Le stade du Raja Casablanca est le Complexe Sp...   \n",
       "2  Le Stade Prince Moulay Abdellah de Rabat est l...   \n",
       "3  Le Stade d’Agadir, également connu sous le nom...   \n",
       "4  Le Stade Ibn Batouta de Tanger, souvent appelé...   \n",
       "\n",
       "                                    Date de creation  \\\n",
       "0  Le Wydad Athletic Club, fondé le 8 mai 1937, e...   \n",
       "1  Le Raja Club Athletic de Casablanca a été fond...   \n",
       "2  Le FUS Rabat (Fédération Union Sportive de Rab...   \n",
       "3  Le Hassania d’Agadir, l’un des clubs les plus ...   \n",
       "4  Le Stade Ibn Batouta de Tanger a été inauguré ...   \n",
       "\n",
       "                                       Titres gagnés  \\\n",
       "0  Le Wydad Athletic Club, plus connu sous le nom...   \n",
       "1  Le Raja Club Athletic de Casablanca, l’un des ...   \n",
       "2  Le FAR Rabat (Fusée de l’Armée Royale) est l’u...   \n",
       "3  Le Hassania d’Agadir a remporté plusieurs titr...   \n",
       "4  Le IRT Tanger (Ittihad Riadi de Tanger) a remp...   \n",
       "\n",
       "                                           President  \\\n",
       "0  Le Wydad Casablanca, sous la présidence de Aït...   \n",
       "1  Le président actuel du Raja Club Athletic de C...   \n",
       "2  Le président du FAR Rabat est Abdelmounaïm Bah...   \n",
       "3  Le président de Hassania Agadir est actuelleme...   \n",
       "4  Le président de l’Ittihad Riadi de Tanger (IRT...   \n",
       "\n",
       "                                          entraineur  \\\n",
       "0  Le coach actuel du Wydad Casablanca est Adil R...   \n",
       "1  Le coach actuel du Raja Casablanca est Florent...   \n",
       "2  Le coach du FAR Rabat est actuellement Sofiane...   \n",
       "3  Le coach actuel de Hassania Agadir est Mustaph...   \n",
       "4  Le coach de l’Ittihad Riadi de Tanger (IRT) es...   \n",
       "\n",
       "                                             Butteur  \\\n",
       "0  La saison dernière, le Wydad Casablanca a pu c...   \n",
       "1  Le meilleur buteur de l’histoire du Raja Casab...   \n",
       "2  Le meilleur buteur historique du FAR Rabat est...   \n",
       "3  Le meilleur buteur de Hassania Agadir est Moha...   \n",
       "4  Le meilleur buteur actuel de l’Ittihad Riadi d...   \n",
       "\n",
       "                                              Ennemi  \\\n",
       "0  Le principal rival du Wydad Casablanca est le ...   \n",
       "1  Le principal rival du Raja Casablanca est le W...   \n",
       "2  Le principal rival du FAR Rabat est le Raja Cl...   \n",
       "3  Le principal rival de Hassania Agadir est le R...   \n",
       "4  Le principal rival de l’Ittihad Riadi de Tange...   \n",
       "\n",
       "                                         Description  \\\n",
       "0  Le Wydad Athletic Club, plus connu sous le nom...   \n",
       "1  Le Raja Club Athletic de Casablanca, communéme...   \n",
       "2  Le FAR Rabat (Fus de l’Armée Royale de Rabat) ...   \n",
       "3  Le Hassania d’Agadir, fondé en 1946, est un cl...   \n",
       "4  L’Ittihad Riadi de Tanger (IRT) est l’un des c...   \n",
       "\n",
       "                                              Vector  \n",
       "0  [0.016041271, 0.009222334, 0.03161344, -0.0146...  \n",
       "1  [0.028362693, 0.027327033, -0.010295024, -0.00...  \n",
       "2  [0.018397242, -0.053975895, -0.007112246, -0.0...  \n",
       "3  [-0.0075021125, 0.08024847, -0.015076168, 0.00...  \n",
       "4  [-0.038104057, -0.06722896, -0.00092780235, 0....  "
      ],
      "text/html": [
       "<div>\n",
       "<style scoped>\n",
       "    .dataframe tbody tr th:only-of-type {\n",
       "        vertical-align: middle;\n",
       "    }\n",
       "\n",
       "    .dataframe tbody tr th {\n",
       "        vertical-align: top;\n",
       "    }\n",
       "\n",
       "    .dataframe thead th {\n",
       "        text-align: right;\n",
       "    }\n",
       "</style>\n",
       "<table border=\"1\" class=\"dataframe\">\n",
       "  <thead>\n",
       "    <tr style=\"text-align: right;\">\n",
       "      <th></th>\n",
       "      <th>Nom de club</th>\n",
       "      <th>Ville</th>\n",
       "      <th>Terrain</th>\n",
       "      <th>Date de creation</th>\n",
       "      <th>Titres gagnés</th>\n",
       "      <th>President</th>\n",
       "      <th>entraineur</th>\n",
       "      <th>Butteur</th>\n",
       "      <th>Ennemi</th>\n",
       "      <th>Description</th>\n",
       "      <th>Vector</th>\n",
       "    </tr>\n",
       "  </thead>\n",
       "  <tbody>\n",
       "    <tr>\n",
       "      <th>0</th>\n",
       "      <td>Wydad Casablanca</td>\n",
       "      <td>Casablanca</td>\n",
       "      <td>Le stade du Wydad Casablanca est le Complexe S...</td>\n",
       "      <td>Le Wydad Athletic Club, fondé le 8 mai 1937, e...</td>\n",
       "      <td>Le Wydad Athletic Club, plus connu sous le nom...</td>\n",
       "      <td>Le Wydad Casablanca, sous la présidence de Aït...</td>\n",
       "      <td>Le coach actuel du Wydad Casablanca est Adil R...</td>\n",
       "      <td>La saison dernière, le Wydad Casablanca a pu c...</td>\n",
       "      <td>Le principal rival du Wydad Casablanca est le ...</td>\n",
       "      <td>Le Wydad Athletic Club, plus connu sous le nom...</td>\n",
       "      <td>[0.016041271, 0.009222334, 0.03161344, -0.0146...</td>\n",
       "    </tr>\n",
       "    <tr>\n",
       "      <th>1</th>\n",
       "      <td>Raja Casablanca</td>\n",
       "      <td>Casablanca</td>\n",
       "      <td>Le stade du Raja Casablanca est le Complexe Sp...</td>\n",
       "      <td>Le Raja Club Athletic de Casablanca a été fond...</td>\n",
       "      <td>Le Raja Club Athletic de Casablanca, l’un des ...</td>\n",
       "      <td>Le président actuel du Raja Club Athletic de C...</td>\n",
       "      <td>Le coach actuel du Raja Casablanca est Florent...</td>\n",
       "      <td>Le meilleur buteur de l’histoire du Raja Casab...</td>\n",
       "      <td>Le principal rival du Raja Casablanca est le W...</td>\n",
       "      <td>Le Raja Club Athletic de Casablanca, communéme...</td>\n",
       "      <td>[0.028362693, 0.027327033, -0.010295024, -0.00...</td>\n",
       "    </tr>\n",
       "    <tr>\n",
       "      <th>2</th>\n",
       "      <td>FAR Rabat</td>\n",
       "      <td>Rabat</td>\n",
       "      <td>Le Stade Prince Moulay Abdellah de Rabat est l...</td>\n",
       "      <td>Le FUS Rabat (Fédération Union Sportive de Rab...</td>\n",
       "      <td>Le FAR Rabat (Fusée de l’Armée Royale) est l’u...</td>\n",
       "      <td>Le président du FAR Rabat est Abdelmounaïm Bah...</td>\n",
       "      <td>Le coach du FAR Rabat est actuellement Sofiane...</td>\n",
       "      <td>Le meilleur buteur historique du FAR Rabat est...</td>\n",
       "      <td>Le principal rival du FAR Rabat est le Raja Cl...</td>\n",
       "      <td>Le FAR Rabat (Fus de l’Armée Royale de Rabat) ...</td>\n",
       "      <td>[0.018397242, -0.053975895, -0.007112246, -0.0...</td>\n",
       "    </tr>\n",
       "    <tr>\n",
       "      <th>3</th>\n",
       "      <td>Hassania Agadir</td>\n",
       "      <td>Agadir</td>\n",
       "      <td>Le Stade d’Agadir, également connu sous le nom...</td>\n",
       "      <td>Le Hassania d’Agadir, l’un des clubs les plus ...</td>\n",
       "      <td>Le Hassania d’Agadir a remporté plusieurs titr...</td>\n",
       "      <td>Le président de Hassania Agadir est actuelleme...</td>\n",
       "      <td>Le coach actuel de Hassania Agadir est Mustaph...</td>\n",
       "      <td>Le meilleur buteur de Hassania Agadir est Moha...</td>\n",
       "      <td>Le principal rival de Hassania Agadir est le R...</td>\n",
       "      <td>Le Hassania d’Agadir, fondé en 1946, est un cl...</td>\n",
       "      <td>[-0.0075021125, 0.08024847, -0.015076168, 0.00...</td>\n",
       "    </tr>\n",
       "    <tr>\n",
       "      <th>4</th>\n",
       "      <td>IRT Tanger</td>\n",
       "      <td>Tanger</td>\n",
       "      <td>Le Stade Ibn Batouta de Tanger, souvent appelé...</td>\n",
       "      <td>Le Stade Ibn Batouta de Tanger a été inauguré ...</td>\n",
       "      <td>Le IRT Tanger (Ittihad Riadi de Tanger) a remp...</td>\n",
       "      <td>Le président de l’Ittihad Riadi de Tanger (IRT...</td>\n",
       "      <td>Le coach de l’Ittihad Riadi de Tanger (IRT) es...</td>\n",
       "      <td>Le meilleur buteur actuel de l’Ittihad Riadi d...</td>\n",
       "      <td>Le principal rival de l’Ittihad Riadi de Tange...</td>\n",
       "      <td>L’Ittihad Riadi de Tanger (IRT) est l’un des c...</td>\n",
       "      <td>[-0.038104057, -0.06722896, -0.00092780235, 0....</td>\n",
       "    </tr>\n",
       "  </tbody>\n",
       "</table>\n",
       "</div>"
      ]
     },
     "execution_count": 426,
     "metadata": {},
     "output_type": "execute_result"
    }
   ],
   "execution_count": 426
  },
  {
   "metadata": {
    "ExecuteTime": {
     "end_time": "2024-12-05T02:16:17.074330Z",
     "start_time": "2024-12-05T02:16:16.940123Z"
    }
   },
   "cell_type": "code",
   "source": "es.ping()",
   "id": "f313a55b0457243a",
   "outputs": [
    {
     "name": "stderr",
     "output_type": "stream",
     "text": [
      "/Users/tarik/Desktop/SRI-Project/python-indecationData/venv/lib/python3.13/site-packages/urllib3/connectionpool.py:1099: InsecureRequestWarning: Unverified HTTPS request is being made to host '192.168.63.251'. Adding certificate verification is strongly advised. See: https://urllib3.readthedocs.io/en/latest/advanced-usage.html#tls-warnings\n",
      "  warnings.warn(\n"
     ]
    },
    {
     "data": {
      "text/plain": [
       "True"
      ]
     },
     "execution_count": 427,
     "metadata": {},
     "output_type": "execute_result"
    }
   ],
   "execution_count": 427
  },
  {
   "metadata": {},
   "cell_type": "markdown",
   "source": "## Create new index in ElasticSearch!\n",
   "id": "b3448a5eea61d9f1"
  },
  {
   "metadata": {
    "ExecuteTime": {
     "end_time": "2024-12-05T02:16:22.874755Z",
     "start_time": "2024-12-05T02:16:22.204151Z"
    }
   },
   "cell_type": "code",
   "source": [
    "from indexMapping import indexMapping\n",
    "\n",
    "es.indices.create(index=\"botola-v15\", mappings=indexMapping)"
   ],
   "id": "34ec7635edc7446b",
   "outputs": [
    {
     "name": "stderr",
     "output_type": "stream",
     "text": [
      "/Users/tarik/Desktop/SRI-Project/python-indecationData/venv/lib/python3.13/site-packages/urllib3/connectionpool.py:1099: InsecureRequestWarning: Unverified HTTPS request is being made to host '192.168.63.251'. Adding certificate verification is strongly advised. See: https://urllib3.readthedocs.io/en/latest/advanced-usage.html#tls-warnings\n",
      "  warnings.warn(\n"
     ]
    },
    {
     "data": {
      "text/plain": [
       "ObjectApiResponse({'acknowledged': True, 'shards_acknowledged': True, 'index': 'botola-v15'})"
      ]
     },
     "execution_count": 428,
     "metadata": {},
     "output_type": "execute_result"
    }
   ],
   "execution_count": 428
  },
  {
   "metadata": {},
   "cell_type": "markdown",
   "source": "",
   "id": "a7ecf3f777d4820e"
  },
  {
   "metadata": {},
   "cell_type": "markdown",
   "source": "## Pour ingérer des données dans un index Elasticsearch\n",
   "id": "5c8849c30522f5dc"
  },
  {
   "metadata": {},
   "cell_type": "markdown",
   "source": "",
   "id": "6377ee5f3db31325"
  },
  {
   "metadata": {
    "ExecuteTime": {
     "end_time": "2024-12-05T02:16:26.213441Z",
     "start_time": "2024-12-05T02:16:26.194335Z"
    }
   },
   "cell_type": "code",
   "source": "record_list = df.to_dict(\"records\")",
   "id": "68caef8264f4af21",
   "outputs": [],
   "execution_count": 429
  },
  {
   "metadata": {
    "ExecuteTime": {
     "end_time": "2024-12-05T02:16:30.364099Z",
     "start_time": "2024-12-05T02:16:29.991197Z"
    }
   },
   "cell_type": "code",
   "source": [
    "for record in record_list:\n",
    "    try:\n",
    "        es.index(index=\"botola-v15\", document=record)\n",
    "    except Exception as e:\n",
    "        print(e)"
   ],
   "id": "87db5814b4263fae",
   "outputs": [
    {
     "name": "stderr",
     "output_type": "stream",
     "text": [
      "/Users/tarik/Desktop/SRI-Project/python-indecationData/venv/lib/python3.13/site-packages/urllib3/connectionpool.py:1099: InsecureRequestWarning: Unverified HTTPS request is being made to host '192.168.63.251'. Adding certificate verification is strongly advised. See: https://urllib3.readthedocs.io/en/latest/advanced-usage.html#tls-warnings\n",
      "  warnings.warn(\n",
      "/Users/tarik/Desktop/SRI-Project/python-indecationData/venv/lib/python3.13/site-packages/urllib3/connectionpool.py:1099: InsecureRequestWarning: Unverified HTTPS request is being made to host '192.168.63.251'. Adding certificate verification is strongly advised. See: https://urllib3.readthedocs.io/en/latest/advanced-usage.html#tls-warnings\n",
      "  warnings.warn(\n",
      "/Users/tarik/Desktop/SRI-Project/python-indecationData/venv/lib/python3.13/site-packages/urllib3/connectionpool.py:1099: InsecureRequestWarning: Unverified HTTPS request is being made to host '192.168.63.251'. Adding certificate verification is strongly advised. See: https://urllib3.readthedocs.io/en/latest/advanced-usage.html#tls-warnings\n",
      "  warnings.warn(\n",
      "/Users/tarik/Desktop/SRI-Project/python-indecationData/venv/lib/python3.13/site-packages/urllib3/connectionpool.py:1099: InsecureRequestWarning: Unverified HTTPS request is being made to host '192.168.63.251'. Adding certificate verification is strongly advised. See: https://urllib3.readthedocs.io/en/latest/advanced-usage.html#tls-warnings\n",
      "  warnings.warn(\n",
      "/Users/tarik/Desktop/SRI-Project/python-indecationData/venv/lib/python3.13/site-packages/urllib3/connectionpool.py:1099: InsecureRequestWarning: Unverified HTTPS request is being made to host '192.168.63.251'. Adding certificate verification is strongly advised. See: https://urllib3.readthedocs.io/en/latest/advanced-usage.html#tls-warnings\n",
      "  warnings.warn(\n",
      "/Users/tarik/Desktop/SRI-Project/python-indecationData/venv/lib/python3.13/site-packages/urllib3/connectionpool.py:1099: InsecureRequestWarning: Unverified HTTPS request is being made to host '192.168.63.251'. Adding certificate verification is strongly advised. See: https://urllib3.readthedocs.io/en/latest/advanced-usage.html#tls-warnings\n",
      "  warnings.warn(\n",
      "/Users/tarik/Desktop/SRI-Project/python-indecationData/venv/lib/python3.13/site-packages/urllib3/connectionpool.py:1099: InsecureRequestWarning: Unverified HTTPS request is being made to host '192.168.63.251'. Adding certificate verification is strongly advised. See: https://urllib3.readthedocs.io/en/latest/advanced-usage.html#tls-warnings\n",
      "  warnings.warn(\n",
      "/Users/tarik/Desktop/SRI-Project/python-indecationData/venv/lib/python3.13/site-packages/urllib3/connectionpool.py:1099: InsecureRequestWarning: Unverified HTTPS request is being made to host '192.168.63.251'. Adding certificate verification is strongly advised. See: https://urllib3.readthedocs.io/en/latest/advanced-usage.html#tls-warnings\n",
      "  warnings.warn(\n",
      "/Users/tarik/Desktop/SRI-Project/python-indecationData/venv/lib/python3.13/site-packages/urllib3/connectionpool.py:1099: InsecureRequestWarning: Unverified HTTPS request is being made to host '192.168.63.251'. Adding certificate verification is strongly advised. See: https://urllib3.readthedocs.io/en/latest/advanced-usage.html#tls-warnings\n",
      "  warnings.warn(\n"
     ]
    }
   ],
   "execution_count": 430
  },
  {
   "metadata": {
    "ExecuteTime": {
     "end_time": "2024-12-05T02:16:35.646006Z",
     "start_time": "2024-12-05T02:16:35.616127Z"
    }
   },
   "cell_type": "code",
   "source": "es.count(index=\"botola-v15\")['count']",
   "id": "6778b855bfe54569",
   "outputs": [
    {
     "name": "stderr",
     "output_type": "stream",
     "text": [
      "/Users/tarik/Desktop/SRI-Project/python-indecationData/venv/lib/python3.13/site-packages/urllib3/connectionpool.py:1099: InsecureRequestWarning: Unverified HTTPS request is being made to host '192.168.63.251'. Adding certificate verification is strongly advised. See: https://urllib3.readthedocs.io/en/latest/advanced-usage.html#tls-warnings\n",
      "  warnings.warn(\n"
     ]
    },
    {
     "data": {
      "text/plain": [
       "9"
      ]
     },
     "execution_count": 431,
     "metadata": {},
     "output_type": "execute_result"
    }
   ],
   "execution_count": 431
  },
  {
   "metadata": {
    "ExecuteTime": {
     "end_time": "2024-12-05T02:17:57.433540Z",
     "start_time": "2024-12-05T02:17:56.418427Z"
    }
   },
   "cell_type": "code",
   "source": [
    "\n",
    "import re\n",
    "\n",
    "\n",
    "keyWord_Search = [\n",
    "    \"President\",\"Ville\", \"Description\", \"Nom du club\", \"Tirain\", \"Date de creation\",\"Butteur\",\"Ennemi\",\"entraineur\"\n",
    "]\n",
    "\n",
    "def extarct_keyWord(input_text, team_list):\n",
    "    str_found = []\n",
    "    for team in team_list:\n",
    "        if re.search(rf'\\b{team}\\b', input_text, re.IGNORECASE):\n",
    "            str_found.append(team)\n",
    "    return str_found\n",
    "\n",
    "input =\"c est quoi le ennemi de wydad de casablanca et entraineur de wydad de casablanca\";\n",
    "data = extarct_keyWord(input,keyWord_Search);\n",
    "print(data)\n",
    "\n",
    "vector_of_input_keyword = model.encode(input)\n",
    "\n",
    "query = {\n",
    "    \"field\": \"Vector\",  \n",
    "    \"query_vector\": vector_of_input_keyword,  \n",
    "    \"k\": es.count(index=\"botola-v15\")['count'],  \n",
    "    \"num_candidates\": 500 \n",
    "}\n",
    "res = es.knn_search(\n",
    "    index=\"botola-v15\",\n",
    "    knn=query,\n",
    "    _source=['Nom de club']+[d for d in data]  # Attention à \"_source\"\n",
    ")\n",
    "\n",
    "print(res[\"hits\"][\"hits\"][0]['_source'])\n"
   ],
   "id": "c775641678cd11e",
   "outputs": [
    {
     "name": "stdout",
     "output_type": "stream",
     "text": [
      "['Ennemi', 'entraineur']\n",
      "{'Nom de club': 'Wydad Casablanca', 'entraineur': 'Le coach actuel du Wydad Casablanca est Adil Ramzi, un entraîneur marocain. Né le 14 juillet 1977, il est âgé de 47 ans. Ancien joueur professionnel, il a évolué en tant que milieu de terrain dans divers clubs européens avant de se lancer dans une carrière d’entraîneur. Son expérience et sa connaissance du football marocain et international font de lui un atout important pour le Wydad Casablanca.', 'Ennemi': 'Le principal rival du Wydad Casablanca est le Raja Club Athletic, également basé à Casablanca. Ce derby, souvent appelé le “Derby de Casablanca”, est l’un des affrontements les plus passionnants et suivis du football africain et arabe. Le Raja et le Wydad partagent non seulement la même ville, mais aussi le mythique Stade Mohammed V, ce qui renforce encore plus la rivalité entre les deux clubs. Ce duel dépasse le cadre du sport, opposant souvent des visions et des communautés distinctes de Casablanca, chacune fervente de son équipe. Le derby est un événement majeur, attirant des milliers de supporters et suscitant une passion et une intensité incomparables. Il est marqué par des chants vibrants, des tifos spectaculaires, et une compétition féroce sur le terrain, faisant de cette rivalité un véritable spectacle pour les amateurs de football'}\n"
     ]
    },
    {
     "name": "stderr",
     "output_type": "stream",
     "text": [
      "/Users/tarik/Desktop/SRI-Project/python-indecationData/venv/lib/python3.13/site-packages/urllib3/connectionpool.py:1099: InsecureRequestWarning: Unverified HTTPS request is being made to host '192.168.63.251'. Adding certificate verification is strongly advised. See: https://urllib3.readthedocs.io/en/latest/advanced-usage.html#tls-warnings\n",
      "  warnings.warn(\n",
      "/var/folders/pl/v43d5c6j1ys41r8g5j39rt380000gn/T/ipykernel_7188/938594073.py:27: GeneralAvailabilityWarning: This API is in technical preview and may be changed or removed in a future release. Elastic will work to fix any issues, but features in technical preview are not subject to the support SLA of official GA features.\n",
      "  res = es.knn_search(\n",
      "/Users/tarik/Desktop/SRI-Project/python-indecationData/venv/lib/python3.13/site-packages/urllib3/connectionpool.py:1099: InsecureRequestWarning: Unverified HTTPS request is being made to host '192.168.63.251'. Adding certificate verification is strongly advised. See: https://urllib3.readthedocs.io/en/latest/advanced-usage.html#tls-warnings\n",
      "  warnings.warn(\n",
      "/var/folders/pl/v43d5c6j1ys41r8g5j39rt380000gn/T/ipykernel_7188/938594073.py:27: ElasticsearchWarning: The kNN search API has been replaced by the `knn` option in the search API.\n",
      "  res = es.knn_search(\n"
     ]
    }
   ],
   "execution_count": 435
  },
  {
   "metadata": {},
   "cell_type": "code",
   "outputs": [],
   "execution_count": null,
   "source": "",
   "id": "1dbb91c9ed8217cd"
  }
 ],
 "metadata": {
  "kernelspec": {
   "display_name": "Python 3",
   "language": "python",
   "name": "python3"
  },
  "language_info": {
   "codemirror_mode": {
    "name": "ipython",
    "version": 2
   },
   "file_extension": ".py",
   "mimetype": "text/x-python",
   "name": "python",
   "nbconvert_exporter": "python",
   "pygments_lexer": "ipython2",
   "version": "3.13.0"
  }
 },
 "nbformat": 4,
 "nbformat_minor": 5
}
